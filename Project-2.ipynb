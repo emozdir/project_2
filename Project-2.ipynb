{
  "cells": [
    {
      "cell_type": "markdown",
      "id": "42289889-bd57-434e-9637-d3e354756316",
      "metadata": {
        "id": "42289889-bd57-434e-9637-d3e354756316"
      },
      "source": [
        "<div align=\"center\">\n",
        "<img src=\"https://raw.githubusercontent.com/AndreyRysistov/DatasetsForPandas/main/hh%20label.jpg\" width=\"400\">\n",
        "</div>"
      ]
    },
    {
      "cell_type": "markdown",
      "id": "829cb75b-f14e-4ba8-9195-7ba929a7d656",
      "metadata": {
        "id": "829cb75b-f14e-4ba8-9195-7ba929a7d656",
        "tags": []
      },
      "source": [
        "# <center> Проект: Анализ вакансий из HeadHunter\n",
        "   "
      ]
    },
    {
      "cell_type": "code",
      "execution_count": 202,
      "id": "dccfde33-2452-43fb-a8a5-5c6ebc02a71d",
      "metadata": {
        "id": "dccfde33-2452-43fb-a8a5-5c6ebc02a71d"
      },
      "outputs": [],
      "source": [
        "import pandas as pd\n",
        "import psycopg2\n",
        "# Скрыла параметры подключения в отдельном файле\n",
        "from config import settings"
      ]
    },
    {
      "cell_type": "code",
      "execution_count": null,
      "id": "02bcbb06",
      "metadata": {},
      "outputs": [],
      "source": [
        "# Игнорируем предупреждение pandas о SQLAlchemy\n",
        "import warnings\n",
        "warnings.filterwarnings(\"ignore\", category=UserWarning, message=\"pandas only supports SQLAlchemy connectable\")"
      ]
    },
    {
      "cell_type": "code",
      "execution_count": 204,
      "id": "G4X_q8KBf7SF",
      "metadata": {
        "id": "G4X_q8KBf7SF"
      },
      "outputs": [],
      "source": [
        "connection = psycopg2.connect(**settings)"
      ]
    },
    {
      "cell_type": "markdown",
      "id": "0dc6476b-7a00-44f1-ac93-6e3baed33a29",
      "metadata": {
        "id": "0dc6476b-7a00-44f1-ac93-6e3baed33a29"
      },
      "source": [
        "# Юнит 3. Предварительный анализ данных"
      ]
    },
    {
      "cell_type": "markdown",
      "id": "889782b6-8d1c-410e-8920-e57f27917c64",
      "metadata": {
        "id": "889782b6-8d1c-410e-8920-e57f27917c64"
      },
      "source": [
        "1. Напишите запрос, который посчитает количество вакансий в нашей базе (вакансии находятся в таблице vacancies). "
      ]
    },
    {
      "cell_type": "code",
      "execution_count": null,
      "id": "bc39e68e-ed02-4ee2-9235-7258a2f867a8",
      "metadata": {
        "id": "bc39e68e-ed02-4ee2-9235-7258a2f867a8"
      },
      "outputs": [],
      "source": [
        "# Текст запроса\n",
        "query_3_1 = 'SELECT COUNT(*) FROM vacancies'"
      ]
    },
    {
      "cell_type": "code",
      "execution_count": null,
      "id": "7mAwtsk4hEHY",
      "metadata": {
        "id": "7mAwtsk4hEHY"
      },
      "outputs": [
        {
          "name": "stdout",
          "output_type": "stream",
          "text": [
            "Общее количество вакансий в базе - 49197\n"
          ]
        }
      ],
      "source": [
        "# Результат запроса\n",
        "count_vacancies = pd.read_sql_query(query_3_1, connection)\n",
        "total_vacancies = int(count_vacancies.iloc[0,0])\n",
        "# display(count_vacancies)\n",
        "print(f'Общее количество вакансий в базе - {total_vacancies}')"
      ]
    },
    {
      "cell_type": "markdown",
      "id": "b583485d-1f9e-494e-ada4-80ffff7c53d6",
      "metadata": {
        "id": "b583485d-1f9e-494e-ada4-80ffff7c53d6"
      },
      "source": [
        "2. Напишите запрос, который посчитает количество работодателей (таблица employers). "
      ]
    },
    {
      "cell_type": "code",
      "execution_count": null,
      "id": "5408c52c-3407-4a63-b25b-1aafa2322d28",
      "metadata": {
        "id": "5408c52c-3407-4a63-b25b-1aafa2322d28"
      },
      "outputs": [],
      "source": [
        "# Текст запроса\n",
        "query_3_2 = 'SELECT COUNT(*) FROM employers'"
      ]
    },
    {
      "cell_type": "code",
      "execution_count": null,
      "id": "jVL4eshKhdqc",
      "metadata": {
        "id": "jVL4eshKhdqc"
      },
      "outputs": [
        {
          "name": "stdout",
          "output_type": "stream",
          "text": [
            "Общее количество работодателей в базе - 23501\n"
          ]
        }
      ],
      "source": [
        "# Результат запроса\n",
        "count_employers = pd.read_sql_query(query_3_2, connection)\n",
        "# display(count_employers)\n",
        "total_employers = int(count_employers.iloc[0,0])\n",
        "print(f'Общее количество работодателей в базе - {total_employers}')"
      ]
    },
    {
      "cell_type": "markdown",
      "id": "a2bfff1f-c975-4bf6-84be-2185d79dcb76",
      "metadata": {
        "id": "a2bfff1f-c975-4bf6-84be-2185d79dcb76"
      },
      "source": [
        "3. Посчитайте с помощью запроса количество регионов (таблица areas)."
      ]
    },
    {
      "cell_type": "code",
      "execution_count": null,
      "id": "1m8QJwBYhey6",
      "metadata": {
        "id": "1m8QJwBYhey6"
      },
      "outputs": [],
      "source": [
        "# Текст запроса\n",
        "query_3_3 = 'SELECT COUNT(*) FROM areas'"
      ]
    },
    {
      "cell_type": "code",
      "execution_count": null,
      "id": "EZsn9tlfhe7f",
      "metadata": {
        "id": "EZsn9tlfhe7f"
      },
      "outputs": [
        {
          "name": "stdout",
          "output_type": "stream",
          "text": [
            "Общее количество регионов - 1362\n"
          ]
        }
      ],
      "source": [
        "# Результат запроса\n",
        "count_areas = pd.read_sql_query(query_3_3, connection)\n",
        "# display(count_areas)\n",
        "total_areas = int(count_areas.iloc[0,0])\n",
        "print(f'Общее количество регионов - {total_areas}')"
      ]
    },
    {
      "cell_type": "markdown",
      "id": "41bb59f3-53cc-4a67-a5bc-bedf573955e4",
      "metadata": {
        "id": "41bb59f3-53cc-4a67-a5bc-bedf573955e4"
      },
      "source": [
        "4. Посчитайте с помощью запроса количество сфер деятельности в базе (таблица industries)."
      ]
    },
    {
      "cell_type": "code",
      "execution_count": null,
      "id": "d286cf4c-707b-4cd2-9190-7ab3587d04a1",
      "metadata": {
        "id": "d286cf4c-707b-4cd2-9190-7ab3587d04a1"
      },
      "outputs": [],
      "source": [
        "# Текст запроса\n",
        "query_3_4 = 'SELECT COUNT(*) FROM industries'"
      ]
    },
    {
      "cell_type": "code",
      "execution_count": null,
      "id": "JYAaoZ4qhfzW",
      "metadata": {
        "id": "JYAaoZ4qhfzW"
      },
      "outputs": [
        {
          "name": "stdout",
          "output_type": "stream",
          "text": [
            "Общее количество сфер деятельности в базе - 294\n"
          ]
        }
      ],
      "source": [
        "# Результат запроса\n",
        "count_industries = pd.read_sql_query(query_3_4, connection)\n",
        "# display(count_industries)\n",
        "total_industries = int(count_industries.iloc[0,0])\n",
        "print(f'Общее количество сфер деятельности в базе - {total_industries}')"
      ]
    },
    {
      "cell_type": "markdown",
      "id": "9a8a2181-6914-448b-85f1-38f5f18b8a93",
      "metadata": {
        "id": "9a8a2181-6914-448b-85f1-38f5f18b8a93"
      },
      "source": [
        "***"
      ]
    },
    {
      "cell_type": "code",
      "execution_count": null,
      "id": "be4e9bd3-a4db-4a20-82fb-6b02fc2957e0",
      "metadata": {
        "id": "be4e9bd3-a4db-4a20-82fb-6b02fc2957e0"
      },
      "outputs": [
        {
          "name": "stdout",
          "output_type": "stream",
          "text": [
            "Предварительный анализ базы данных показал:\n",
            "• количество вакансий в базе - 49197,\n",
            "• количество работодателей в базе - 23501,\n",
            "• количество регионов в базе - 1362,\n",
            "• количество сфер деятельности в базе - 294.\n",
            "\n"
          ]
        }
      ],
      "source": [
        "# Выводы по предварительному анализу данных\n",
        "print(f'''Предварительный анализ базы данных показал:\n",
        "• количество вакансий в базе - {total_vacancies},\n",
        "• количество работодателей в базе - {total_employers},\n",
        "• количество регионов в базе - {total_areas},\n",
        "• количество сфер деятельности в базе - {total_industries}.\n",
        "''')"
      ]
    },
    {
      "cell_type": "markdown",
      "id": "1a9a3627",
      "metadata": {},
      "source": [
        "**Общие выводы:** база данных представляет собой крупную выборку, содержащую почти 50 тыс. вакансий от 23,5 тыс. работодателей, что обеспечивает хорошую основу для анализа. Наличие справочников по 1362 регионам и 294 отраслям предоставляет хороший потенциал для анализа, однако его глубина зависит от полноты заполнения этих данных в вакансиях."
      ]
    },
    {
      "cell_type": "markdown",
      "id": "8d62a9f3-f64e-4fe7-bdac-c4dffa16155e",
      "metadata": {
        "id": "8d62a9f3-f64e-4fe7-bdac-c4dffa16155e"
      },
      "source": [
        "# Юнит 4. Детальный анализ вакансий"
      ]
    },
    {
      "cell_type": "markdown",
      "id": "93053d3d-b284-481a-9cf7-012d7014c0e0",
      "metadata": {
        "id": "93053d3d-b284-481a-9cf7-012d7014c0e0"
      },
      "source": [
        "1. Напишите запрос, который позволит узнать, сколько (cnt) вакансий в каждом регионе (area).\n",
        "Отсортируйте по количеству вакансий в порядке убывания."
      ]
    },
    {
      "cell_type": "code",
      "execution_count": 214,
      "id": "3f069da6-fdc9-4ae7-b514-fafe2675efd3",
      "metadata": {
        "id": "3f069da6-fdc9-4ae7-b514-fafe2675efd3"
      },
      "outputs": [],
      "source": [
        "# Количество вакансий по регионам с сортировкой по убыванию\n",
        "# Используем LEFT JOIN для включения всех регионов, даже тех где нет вакансий\n",
        "query_4_1 = '''\n",
        "SELECT\n",
        "    a.name AS area,\n",
        "    COUNT(v.id) AS cnt\n",
        "FROM areas a \n",
        "LEFT JOIN vacancies v\n",
        "    ON v.area_id = a.id -- Присоединяем вакансии к регионам\n",
        "-- Группировка по id, для исключения одинаковых имен\n",
        "GROUP BY\n",
        "    a.id, a.name\n",
        "-- Сортируем по убыванию количества вакансий\n",
        "ORDER BY \n",
        "    cnt DESC\n",
        "'''"
      ]
    },
    {
      "cell_type": "code",
      "execution_count": null,
      "id": "P7QL86hrjhRJ",
      "metadata": {
        "id": "P7QL86hrjhRJ"
      },
      "outputs": [
        {
          "name": "stdout",
          "output_type": "stream",
          "text": [
            " Регионы-лидеры по количеству размещенных вакансий - Москва, Санкт-Петербург, Минск, Новосибирск, Алматы\n"
          ]
        }
      ],
      "source": [
        "# Получаем данные о распределении вакансий по регионам\n",
        "area_cnt = pd.read_sql_query(query_4_1, connection)\n",
        "# display(area_cnt)\n",
        "\n",
        "# Выводим топ-5 регионов по количеству вакансий\n",
        "top5_area = \", \".join(area_cnt['area'].head(5).tolist())\n",
        "print(f' Регионы-лидеры по количеству размещенных вакансий - {top5_area}')"
      ]
    },
    {
      "cell_type": "markdown",
      "id": "4266f0b6-1646-492a-88b4-2f6a46502135",
      "metadata": {
        "id": "4266f0b6-1646-492a-88b4-2f6a46502135"
      },
      "source": [
        "2. Напишите запрос, чтобы определить у какого количества вакансий заполнено хотя бы одно из двух полей с зарплатой."
      ]
    },
    {
      "cell_type": "code",
      "execution_count": 216,
      "id": "0c44b350-72eb-4d65-8b54-a1fc449ba9fd",
      "metadata": {
        "id": "0c44b350-72eb-4d65-8b54-a1fc449ba9fd"
      },
      "outputs": [],
      "source": [
        "# Количество вакансий, где заполнено хотя бы одно из полей с зарплатой\n",
        "query_4_2 = '''\n",
        "SELECT\n",
        "    COUNT(id)\n",
        "FROM vacancies\n",
        "WHERE\n",
        "    -- Учитываем вакансии с любой указанной зарплатой\n",
        "    salary_from IS NOT NULL  -- \"От\" указана\n",
        "    OR salary_to IS NOT NULL -- Или \"до\" указана\n",
        "'''"
      ]
    },
    {
      "cell_type": "code",
      "execution_count": null,
      "id": "rhvwaMDkoWTi",
      "metadata": {
        "id": "rhvwaMDkoWTi"
      },
      "outputs": [
        {
          "name": "stdout",
          "output_type": "stream",
          "text": [
            "Количество вакансий, в которых указан уровень заработной платы - 24073.\n"
          ]
        }
      ],
      "source": [
        "# Получаем данные\n",
        "salary_notnull_count = pd.read_sql_query(query_4_2, connection)\n",
        "# display(salary_notnull)\n",
        "salary_notnull = int(salary_notnull_count.iloc[0,0])\n",
        "print(f'Количество вакансий, в которых указан уровень заработной платы - {salary_notnull}.')"
      ]
    },
    {
      "cell_type": "markdown",
      "id": "635c4d5d-f323-4c66-b428-50a088120aa0",
      "metadata": {
        "id": "635c4d5d-f323-4c66-b428-50a088120aa0"
      },
      "source": [
        "3. Найдите средние значения для нижней и верхней границы зарплатной вилки. Округлите значения до целого."
      ]
    },
    {
      "cell_type": "code",
      "execution_count": null,
      "id": "603cdbe4-0ec3-4106-8eaf-c73fcdd29165",
      "metadata": {
        "id": "603cdbe4-0ec3-4106-8eaf-c73fcdd29165"
      },
      "outputs": [],
      "source": [
        "# Считаем средние только по вакансиям с указанной зарплатой\n",
        "# AVG() автоматически игнорирует NULL значения\n",
        "query_4_3 = '''\n",
        "SELECT\n",
        "    AVG(salary_from) AS avg_salary_from,\n",
        "    AVG(salary_to) AS avg_salary_to\n",
        "FROM vacancies\n",
        "'''"
      ]
    },
    {
      "cell_type": "code",
      "execution_count": null,
      "id": "pswpAb66ovZZ",
      "metadata": {
        "id": "pswpAb66ovZZ"
      },
      "outputs": [
        {
          "name": "stdout",
          "output_type": "stream",
          "text": [
            "Средний уровень заработной платы в базе данных находится в диапазоне от 71065 руб. до 110537 руб.\n"
          ]
        }
      ],
      "source": [
        "# Результат запроса \n",
        "# Округляем результат в Pandas\n",
        "salary_avg = pd.read_sql_query(query_4_3, connection).round().astype(int)\n",
        "# display(salary_avg)\n",
        "avg_salary_from = salary_avg.iloc[0,0]\n",
        "avg_salary_to = salary_avg.iloc[0,1]\n",
        "print(f'Средний уровень заработной платы в базе данных находится в диапазоне от {avg_salary_from} руб. до {avg_salary_to} руб.')"
      ]
    },
    {
      "cell_type": "markdown",
      "id": "f3fdaec9-5fd3-4260-9cf5-1d7406b628a5",
      "metadata": {
        "id": "f3fdaec9-5fd3-4260-9cf5-1d7406b628a5"
      },
      "source": [
        "4. Напишите запрос, который выведет количество вакансий для каждого сочетания типа рабочего графика (schedule) и типа трудоустройства (employment), используемого в вакансиях. Результат отсортируйте по убыванию количества.\n"
      ]
    },
    {
      "cell_type": "code",
      "execution_count": null,
      "id": "1ea710ec-871b-431e-9462-c7d0fd87011b",
      "metadata": {
        "id": "1ea710ec-871b-431e-9462-c7d0fd87011b"
      },
      "outputs": [],
      "source": [
        "# Формируем запрос с количеством вакансий по каждой форме графика и типу трудоустройства\n",
        "query_4_4 = '''\n",
        "SELECT\n",
        "    schedule, \n",
        "    employment, \n",
        "    COUNT(id) AS count\n",
        "FROM vacancies\n",
        "GROUP BY\n",
        "    -- Группируем по двум элементам для поиска всех сочетаний\n",
        "    schedule,   --График\n",
        "    employment  --Тип трудоустройства\n",
        "ORDER BY \n",
        "    count DESC\n",
        "'''"
      ]
    },
    {
      "cell_type": "code",
      "execution_count": null,
      "id": "lGUVqavdo4JQ",
      "metadata": {
        "id": "lGUVqavdo4JQ"
      },
      "outputs": [
        {
          "data": {
            "text/html": [
              "<div>\n",
              "<style scoped>\n",
              "    .dataframe tbody tr th:only-of-type {\n",
              "        vertical-align: middle;\n",
              "    }\n",
              "\n",
              "    .dataframe tbody tr th {\n",
              "        vertical-align: top;\n",
              "    }\n",
              "\n",
              "    .dataframe thead th {\n",
              "        text-align: right;\n",
              "    }\n",
              "</style>\n",
              "<table border=\"1\" class=\"dataframe\">\n",
              "  <thead>\n",
              "    <tr style=\"text-align: right;\">\n",
              "      <th></th>\n",
              "      <th>schedule</th>\n",
              "      <th>employment</th>\n",
              "      <th>count</th>\n",
              "    </tr>\n",
              "  </thead>\n",
              "  <tbody>\n",
              "    <tr>\n",
              "      <th>0</th>\n",
              "      <td>Полный день</td>\n",
              "      <td>Полная занятость</td>\n",
              "      <td>35367</td>\n",
              "    </tr>\n",
              "    <tr>\n",
              "      <th>1</th>\n",
              "      <td>Удаленная работа</td>\n",
              "      <td>Полная занятость</td>\n",
              "      <td>7802</td>\n",
              "    </tr>\n",
              "    <tr>\n",
              "      <th>2</th>\n",
              "      <td>Гибкий график</td>\n",
              "      <td>Полная занятость</td>\n",
              "      <td>1593</td>\n",
              "    </tr>\n",
              "    <tr>\n",
              "      <th>3</th>\n",
              "      <td>Удаленная работа</td>\n",
              "      <td>Частичная занятость</td>\n",
              "      <td>1312</td>\n",
              "    </tr>\n",
              "    <tr>\n",
              "      <th>4</th>\n",
              "      <td>Сменный график</td>\n",
              "      <td>Полная занятость</td>\n",
              "      <td>940</td>\n",
              "    </tr>\n",
              "  </tbody>\n",
              "</table>\n",
              "</div>"
            ],
            "text/plain": [
              "           schedule           employment  count\n",
              "0       Полный день     Полная занятость  35367\n",
              "1  Удаленная работа     Полная занятость   7802\n",
              "2     Гибкий график     Полная занятость   1593\n",
              "3  Удаленная работа  Частичная занятость   1312\n",
              "4    Сменный график     Полная занятость    940"
            ]
          },
          "metadata": {},
          "output_type": "display_data"
        },
        {
          "name": "stdout",
          "output_type": "stream",
          "text": [
            "На втором месте по популярности находится тип работы: \"\"Удаленная работа + Полная занятость\"\".\n"
          ]
        }
      ],
      "source": [
        "# Получаем статистику по сочетаниям графиков работы и типов трудоустройства\n",
        "job_type = pd.read_sql_query(query_4_4, connection)\n",
        "display(job_type.head())\n",
        "\n",
        "# Выводим второй по популярности формат работы\n",
        "second_popular = f'\"{job_type.iloc[1,0]} + {job_type.iloc[1,1]}\"'\n",
        "print(f'На втором месте по популярности находится тип работы: \"{second_popular}\".')"
      ]
    },
    {
      "cell_type": "markdown",
      "id": "0136ffee-0ead-4a6b-b608-61d1c753a438",
      "metadata": {
        "id": "0136ffee-0ead-4a6b-b608-61d1c753a438"
      },
      "source": [
        "5. Напишите запрос, выводящий значения поля Требуемый опыт работы (experience) в порядке возрастания количества вакансий, в которых указан данный вариант опыта. "
      ]
    },
    {
      "cell_type": "code",
      "execution_count": null,
      "id": "5b3a8e79-f7ab-4008-b767-12aea3a205ea",
      "metadata": {
        "id": "5b3a8e79-f7ab-4008-b767-12aea3a205ea"
      },
      "outputs": [],
      "source": [
        "# Запросим количество вакансий по каждому уровню опыта\n",
        "query_4_5 = '''\n",
        "SELECT\n",
        "    experience,\n",
        "    COUNT(id) AS count\n",
        "FROM vacancies\n",
        "GROUP BY\n",
        "    experience -- Группировка по опыту\n",
        "ORDER BY count -- Сортировка по количеству\n",
        "'''"
      ]
    },
    {
      "cell_type": "code",
      "execution_count": null,
      "id": "3Is64Y-hpDpq",
      "metadata": {
        "id": "3Is64Y-hpDpq"
      },
      "outputs": [
        {
          "name": "stdout",
          "output_type": "stream",
          "text": [
            "Требуемый опыт работы в порядке возрастания количества вакансий: Более 6 лет, Нет опыта, От 3 до 6 лет, От 1 года до 3 лет\n"
          ]
        }
      ],
      "source": [
        "# Получаем данные о распределении вакансий по требуемому опыту\n",
        "experience_df = pd.read_sql_query(query_4_5, connection)\n",
        "# display(experience_df)\n",
        "\n",
        "# Формируем строку с вариантами опыта в порядке возрастания востребованности\n",
        "experience_list = \", \".join(experience_df[\"experience\"].tolist())\n",
        "print(f'Требуемый опыт работы в порядке возрастания количества вакансий: {experience_list}')"
      ]
    },
    {
      "cell_type": "markdown",
      "id": "oq2b7n1QpIka",
      "metadata": {
        "id": "oq2b7n1QpIka"
      },
      "source": [
        "***"
      ]
    },
    {
      "cell_type": "code",
      "execution_count": null,
      "id": "e91f87ed-e25c-4f96-9f92-b642e8c0b4fa",
      "metadata": {
        "id": "e91f87ed-e25c-4f96-9f92-b642e8c0b4fa"
      },
      "outputs": [
        {
          "name": "stdout",
          "output_type": "stream",
          "text": [
            "Выводы по детальному анализу вакансий:\n",
            "\n",
            "1. Топ городов с максимальным количеством размещенных вакансий: Москва, Санкт-Петербург, Минск, Новосибирск, Алматы;\n",
            "2. Количество вакансий в которых указана заработная плата: 24073;\n",
            "3. Уровень предлагаемых зарплат в базе данных в среднем от 71065 руб. до 110537 руб.;\n",
            "4. На втором месте по популярности находится тип работы: \"Удаленная работа + Полная занятость\" (7802 вакансии).\n",
            "На первом месте по популярности находится тип работы: \"Полный день + Полная занятость\" (35367 вакансии);\n",
            "5. Наибольшее количество вакансий размещено для кандидатов с опытом работы от 1 года до 3 лет (26152 вакансий),\n",
            "наименьшее -  более 6 лет опыта (1337 вакансий).\n",
            "\n"
          ]
        }
      ],
      "source": [
        "# Выводы по детальному анализу вакансий\n",
        "print(f'''Выводы по детальному анализу вакансий:\\n\n",
        "1. Топ городов с максимальным количеством размещенных вакансий: {top5_area};\n",
        "2. Количество вакансий в которых указана заработная плата: {salary_notnull};\n",
        "3. Уровень предлагаемых зарплат в базе данных в среднем от {avg_salary_from} руб. до {avg_salary_to} руб.;\n",
        "4. На втором месте по популярности находится тип работы: {second_popular} ({job_type.iloc[1,2]} вакансии).\\nНа первом месте по популярности находится тип работы: \"{job_type.iloc[0,0]} + {job_type.iloc[0,1]}\" ({job_type.iloc[0,2]} вакансии);\n",
        "5. Наибольшее количество вакансий размещено для кандидатов с опытом работы {experience_df.iloc[-1,0].lower()} ({experience_df.iloc[-1,-1]} вакансий),\\nнаименьшее -  {experience_df.iloc[0,0].lower()} опыта ({experience_df.iloc[0,1]} вакансий).\n",
        "''')\n"
      ]
    },
    {
      "cell_type": "markdown",
      "id": "aea18e9a",
      "metadata": {},
      "source": [
        "Анализ базы данных выявил ключевые тенденции рынка труда:\n",
        "\n",
        "+ Вакансии сконцентрированы в крупных городах- миллионниках;\n",
        "+ Около 70% всех предложений - работа в офисе на полный день, но удаленный формат прочно занимает второе место;\n",
        "+ Рынок ориентирован на специалистов с опытом работы 1-3 года. Наименее востребованы опытные кандидаты (более 6 лет опыта);\n",
        "+ Зарплаты сильно различаются - разброс достигает около 40% между минимальным и максимальным уровнем дохода.\n",
        "\n",
        "Анализ подтверждает сложившуюся структуру рынка, где преобладают стандартные формы занятости и специалисты с опытом 1-3 года."
      ]
    },
    {
      "cell_type": "markdown",
      "id": "7ea20ab6-04a7-40a0-adec-443a0e5a42c3",
      "metadata": {
        "id": "7ea20ab6-04a7-40a0-adec-443a0e5a42c3"
      },
      "source": [
        "# Юнит 5. Анализ работодателей"
      ]
    },
    {
      "cell_type": "markdown",
      "id": "968aed80-74ef-4ffb-b5bf-c65b84e9caea",
      "metadata": {
        "id": "968aed80-74ef-4ffb-b5bf-c65b84e9caea"
      },
      "source": [
        "1. Напишите запрос, который позволит узнать, какие работодатели находятся на первом и пятом месте по количеству вакансий."
      ]
    },
    {
      "cell_type": "code",
      "execution_count": null,
      "id": "f2d62796-d400-4ec1-a675-88112739a50e",
      "metadata": {
        "id": "f2d62796-d400-4ec1-a675-88112739a50e"
      },
      "outputs": [],
      "source": [
        "# Формируем запрос количество вакансий от каждого работодателя\n",
        "query_5_1 = '''\n",
        "SELECT\n",
        "    e.name,\n",
        "    -- Подсчет количества вакансий каждого работодателя\n",
        "    COUNT(v.id)\n",
        "FROM employers e\n",
        "    -- Соединяем работодателей с их вакансиями\n",
        "    JOIN vacancies v ON e.id = v.employer_id\n",
        "GROUP BY\n",
        "    e.id, e.name -- Группируем по работодателям\n",
        "ORDER BY 2 DESC\n",
        "LIMIT 5          -- Берем топ-5 работодателей\n",
        "'''"
      ]
    },
    {
      "cell_type": "code",
      "execution_count": null,
      "id": "64tOMkAxqkQk",
      "metadata": {
        "id": "64tOMkAxqkQk"
      },
      "outputs": [
        {
          "name": "stdout",
          "output_type": "stream",
          "text": [
            "На первом месте по количеству вакансий находится компания - Яндекс\n",
            "На пятом месте по количеству вакансий находится компания - Газпром нефть\n"
          ]
        }
      ],
      "source": [
        "# Результат запроса\n",
        "top5_employer = pd.read_sql_query(query_5_1, connection)\n",
        "# display(top5_employer)\n",
        "\n",
        "# Извлекаем работодателей с первого и пятого места\n",
        "employer_1 = top5_employer.iloc[0,0]\n",
        "employer_5 = top5_employer.iloc[-1,0]\n",
        "print(f'На первом месте по количеству вакансий находится компания - {employer_1}')\n",
        "print(f'На пятом месте по количеству вакансий находится компания - {employer_5}')"
      ]
    },
    {
      "cell_type": "markdown",
      "id": "68377cfc-b378-43dc-ab7d-1195abf2c515",
      "metadata": {
        "id": "68377cfc-b378-43dc-ab7d-1195abf2c515"
      },
      "source": [
        "2. Напишите запрос, который для каждого региона выведет количество работодателей и вакансий в нём.\n",
        "Среди регионов, в которых нет вакансий, найдите тот, в котором наибольшее количество работодателей.\n"
      ]
    },
    {
      "cell_type": "code",
      "execution_count": null,
      "id": "dd7df27a-e3e8-412e-a21a-5d389b71e891",
      "metadata": {
        "id": "dd7df27a-e3e8-412e-a21a-5d389b71e891"
      },
      "outputs": [],
      "source": [
        "# Запрос для количества работодателей и вакансий для каждого региона\n",
        "\"\"\"\n",
        "query_5_2 = '''\n",
        "SELECT\n",
        "    a.name,\n",
        "    COUNT(DISTINCT e.id) AS count_employer,\n",
        "    COUNT(DISTINCT v.id) AS count_job\n",
        "FROM areas a\n",
        "    LEFT JOIN employers e ON a.id = e.area\n",
        "    LEFT JOIN vacancies v ON a.id = v.area_id\n",
        "GROUP BY a.id, a.name\n",
        "ORDER BY count_job, count_employer DESC\n",
        "'''\n",
        "\"\"\"\n",
        "# Предыдущий запрос хоть и короткий, но выполняется очень долго (50 сек.). \n",
        "# Попробую ускорить его с WITH оператором\n",
        "query_5_2 = f'''\n",
        "-- Предварительный подсчет количества работодателей по регионам\n",
        "WITH cnt_employers AS (\n",
        "    SELECT\n",
        "        area, COUNT(*) AS count\n",
        "    FROM employers\n",
        "    GROUP BY area\n",
        "),\n",
        "\n",
        "-- Предварительный подсчет количества вакансий по регионам\n",
        "cnt_vacancy AS (\n",
        "    SELECT\n",
        "        area_id, COUNT(*) AS count\n",
        "    FROM vacancies\n",
        "    GROUP BY area_id\n",
        ")\n",
        "\n",
        "-- Финальный запрос: объединяем регионы с предварительно посчитанной статистикой\n",
        "SELECT \n",
        "    a.name AS region_name,\n",
        "    -- Заменяем NULL на 0 для регионов без работодателей\n",
        "    COALESCE(e.count, 0) AS count_employer,\n",
        "    -- Заменяем NULL на 0 для регионов без вакансий\n",
        "    COALESCE(v.count, 0) AS count_job\n",
        "FROM areas a\n",
        "-- Статистика по работодателям\n",
        "LEFT JOIN cnt_employers e ON a.id = e.area\n",
        "-- Статистика по вакансиям\n",
        "LEFT JOIN cnt_vacancy v ON a.id = v.area_id\n",
        "ORDER BY \n",
        "    count_job,          --сначала регионы без вакансий\n",
        "    count_employer DESC -- далее по убыванию кол-ва работодателей\n",
        "'''"
      ]
    },
    {
      "cell_type": "code",
      "execution_count": null,
      "id": "x1ikWbydrbf6",
      "metadata": {
        "id": "x1ikWbydrbf6"
      },
      "outputs": [
        {
          "name": "stdout",
          "output_type": "stream",
          "text": [
            "Среди регионов без вакансий лидирует по количеству работодателей: Россия\n"
          ]
        }
      ],
      "source": [
        "# Результат запроса\n",
        "employer_in_area = pd.read_sql_query(query_5_2, connection)\n",
        "# display(employer_in_area)\n",
        "\n",
        "# Первая строка результата будет содержать регион без вакансий с максимальным количеством работодателей\n",
        "print(f'Среди регионов без вакансий лидирует по количеству работодателей: {employer_in_area.iloc[0,0]}')"
      ]
    },
    {
      "cell_type": "markdown",
      "id": "f2fe0acb-ab1a-4e15-9326-2560e22d73c1",
      "metadata": {
        "id": "f2fe0acb-ab1a-4e15-9326-2560e22d73c1"
      },
      "source": [
        "3. Для каждого работодателя посчитайте количество регионов, в которых он публикует свои вакансии. Отсортируйте результат по убыванию количества.\n"
      ]
    },
    {
      "cell_type": "code",
      "execution_count": null,
      "id": "6271f8ad-bd2e-4196-ae4a-5b39c4c1010e",
      "metadata": {
        "id": "6271f8ad-bd2e-4196-ae4a-5b39c4c1010e"
      },
      "outputs": [],
      "source": [
        "# Подсчет количества регионов, в которых каждый работодатель публикует вакансии\n",
        "query_5_3 = '''\n",
        "SELECT\n",
        "    e.name,\n",
        "    -- Уникальные регионы для каждого работодателя\n",
        "    COUNT(DISTINCT v.area_id) AS count_area\n",
        "FROM employers e\n",
        "    -- LEFT JOIN чтобы включить работодателей без вакансий\n",
        "    LEFT JOIN vacancies v ON e.id = v.employer_id\n",
        "GROUP BY e.id, e.name\n",
        "-- Сортировка по убыванию количества регионов\n",
        "ORDER BY count_area DESC\n",
        "'''"
      ]
    },
    {
      "cell_type": "code",
      "execution_count": null,
      "id": "1EIvX3HasH4F",
      "metadata": {
        "id": "1EIvX3HasH4F"
      },
      "outputs": [
        {
          "data": {
            "text/html": [
              "<div>\n",
              "<style scoped>\n",
              "    .dataframe tbody tr th:only-of-type {\n",
              "        vertical-align: middle;\n",
              "    }\n",
              "\n",
              "    .dataframe tbody tr th {\n",
              "        vertical-align: top;\n",
              "    }\n",
              "\n",
              "    .dataframe thead th {\n",
              "        text-align: right;\n",
              "    }\n",
              "</style>\n",
              "<table border=\"1\" class=\"dataframe\">\n",
              "  <thead>\n",
              "    <tr style=\"text-align: right;\">\n",
              "      <th></th>\n",
              "      <th>name</th>\n",
              "      <th>count_area</th>\n",
              "    </tr>\n",
              "  </thead>\n",
              "  <tbody>\n",
              "    <tr>\n",
              "      <th>0</th>\n",
              "      <td>Яндекс</td>\n",
              "      <td>181</td>\n",
              "    </tr>\n",
              "    <tr>\n",
              "      <th>1</th>\n",
              "      <td>Ростелеком</td>\n",
              "      <td>152</td>\n",
              "    </tr>\n",
              "    <tr>\n",
              "      <th>2</th>\n",
              "      <td>Спецремонт</td>\n",
              "      <td>116</td>\n",
              "    </tr>\n",
              "    <tr>\n",
              "      <th>3</th>\n",
              "      <td>Поляков Денис Иванович</td>\n",
              "      <td>88</td>\n",
              "    </tr>\n",
              "    <tr>\n",
              "      <th>4</th>\n",
              "      <td>ООО ЕФИН</td>\n",
              "      <td>71</td>\n",
              "    </tr>\n",
              "  </tbody>\n",
              "</table>\n",
              "</div>"
            ],
            "text/plain": [
              "                     name  count_area\n",
              "0                  Яндекс         181\n",
              "1              Ростелеком         152\n",
              "2              Спецремонт         116\n",
              "3  Поляков Денис Иванович          88\n",
              "4               ООО ЕФИН           71"
            ]
          },
          "metadata": {},
          "output_type": "display_data"
        },
        {
          "name": "stdout",
          "output_type": "stream",
          "text": [
            "Максимальное количество регионов в которых публикуются вакансии от одного работодателя - 181, работодатель - \"Яндекс\"\n"
          ]
        }
      ],
      "source": [
        "# Результат запроса\n",
        "cnt_emp_area = pd.read_sql_query(query_5_3, connection)\n",
        "# Топ-5 работодателей по охвату регионов\n",
        "display(cnt_emp_area.head())\n",
        "\n",
        "# Выводим работодателя с максимальным географическим охватом\n",
        "max_regions = cnt_emp_area.iloc[0,1]\n",
        "top_employer = cnt_emp_area.iloc[0,0]\n",
        "print(f'Максимальное количество регионов в которых публикуются вакансии от одного работодателя - {max_regions}, работодатель - \"{top_employer}\"')\n"
      ]
    },
    {
      "cell_type": "markdown",
      "id": "eab2206d-d95b-468b-8e5f-34381abf0ce7",
      "metadata": {
        "id": "eab2206d-d95b-468b-8e5f-34381abf0ce7"
      },
      "source": [
        "4. Напишите запрос для подсчёта количества работодателей, у которых не указана сфера деятельности. "
      ]
    },
    {
      "cell_type": "code",
      "execution_count": null,
      "id": "80defb23-bfb1-4a18-8be6-bf36aa7165d5",
      "metadata": {
        "id": "80defb23-bfb1-4a18-8be6-bf36aa7165d5"
      },
      "outputs": [],
      "source": [
        "# Количество работодателей с NULL сферами деятельности\n",
        "query_5_4 = '''\n",
        "SELECT\n",
        "    COUNT(*)\n",
        "FROM employers e\n",
        "    LEFT JOIN employers_industries ei ON e.id = ei.employer_id\n",
        "WHERE\n",
        "    -- Работодатели без указания сферы деятельности\n",
        "    industry_id IS NULL \n",
        "'''"
      ]
    },
    {
      "cell_type": "code",
      "execution_count": null,
      "id": "Dp_yCx6ysQSu",
      "metadata": {
        "id": "Dp_yCx6ysQSu"
      },
      "outputs": [
        {
          "name": "stdout",
          "output_type": "stream",
          "text": [
            "8419 работодателей в базе данных не указали сферу деятельности.\n"
          ]
        }
      ],
      "source": [
        "# Результат запроса\n",
        "null_industries_count = pd.read_sql_query(query_5_4, connection)\n",
        "# display(null_industries_count)\n",
        "\n",
        "null_industries = int(null_industries_count.iloc[0,0])\n",
        "print(f'{null_industries} работодателей в базе данных не указали сферу деятельности.')"
      ]
    },
    {
      "cell_type": "markdown",
      "id": "0112af31-f6b0-4e3b-82ab-71296e752e5e",
      "metadata": {
        "id": "0112af31-f6b0-4e3b-82ab-71296e752e5e"
      },
      "source": [
        "5. Напишите запрос, чтобы узнать название компании, находящейся на третьем месте в алфавитном списке (по названию) компаний, у которых указано четыре сферы деятельности. "
      ]
    },
    {
      "cell_type": "code",
      "execution_count": null,
      "id": "973b0cfc-a972-470a-8b4a-68744ef220c4",
      "metadata": {
        "id": "973b0cfc-a972-470a-8b4a-68744ef220c4"
      },
      "outputs": [],
      "source": [
        "# Запросим компании и их сферы деятельности\n",
        "query_5_5 = f'''\n",
        "SELECT\n",
        "    e.name\n",
        "FROM employers e\n",
        "    -- Соединяем с таблицей связей со сферами\n",
        "    JOIN employers_industries ei ON e.id = ei.employer_id\n",
        "GROUP BY\n",
        "    e.id,\n",
        "    e.name -- Группируем по работодателям\n",
        "HAVING\n",
        "    -- Фильтруем только компании с 4 уникальными сферами\n",
        "    COUNT(DISTINCT ei.industry_id) = 4\n",
        "ORDER BY name -- сортируем по алфавиту\n",
        "OFFSET 2   -- Пропускаем первые две записи (0-я и 1-я)\n",
        "LIMIT 1    -- Берем только одну запись (третью по порядку)\n",
        "'''"
      ]
    },
    {
      "cell_type": "code",
      "execution_count": null,
      "id": "xsPtpp8EsaED",
      "metadata": {
        "id": "xsPtpp8EsaED"
      },
      "outputs": [
        {
          "name": "stdout",
          "output_type": "stream",
          "text": [
            "Среди компаний с 4 сферами деятельности третье место в алфавитном порядке занимает \"2ГИС\"\n"
          ]
        }
      ],
      "source": [
        "# Результат запроса\n",
        "cnt_industries = pd.read_sql_query(query_5_5, connection)\n",
        "\n",
        "# Выводим компанию, занимающую третье место в алфавитном списке\n",
        "company_name = cnt_industries.iloc[0,0]\n",
        "print(f'Среди компаний с 4 сферами деятельности третье место в алфавитном порядке занимает \"{company_name}\"')"
      ]
    },
    {
      "cell_type": "markdown",
      "id": "3bfcfdaf-755d-4d2b-8ed8-326201dc07ab",
      "metadata": {
        "id": "3bfcfdaf-755d-4d2b-8ed8-326201dc07ab"
      },
      "source": [
        "6. С помощью запроса выясните, у какого количества работодателей в качестве сферы деятельности указана Разработка программного обеспечения.\n"
      ]
    },
    {
      "cell_type": "code",
      "execution_count": null,
      "id": "ad3f270f-2991-47eb-929b-e8f88a55b0d1",
      "metadata": {
        "id": "ad3f270f-2991-47eb-929b-e8f88a55b0d1"
      },
      "outputs": [],
      "source": [
        "# Находим количество компаний с определенной сферой деятельности\n",
        "query_5_6 = f'''\n",
        "\n",
        "SELECT\n",
        "    COUNT(*)\n",
        "FROM employers e\n",
        "    -- Связь работодателей со сферами\n",
        "    JOIN employers_industries ei ON e.id = ei.employer_id \n",
        "    -- Получаем названия сфер деятельности\n",
        "    JOIN industries i ON i.id = ei.industry_id\n",
        "WHERE\n",
        "    -- Фильтруем по конкретной сфере\n",
        "    i.name = 'Разработка программного обеспечения'\n",
        "'''"
      ]
    },
    {
      "cell_type": "code",
      "execution_count": null,
      "id": "H72qxWM0shPR",
      "metadata": {
        "id": "H72qxWM0shPR"
      },
      "outputs": [
        {
          "name": "stdout",
          "output_type": "stream",
          "text": [
            "\"Разработка программного обеспечения\" в качестве сферы деятельности указана у 3553 работодателей.\n"
          ]
        }
      ],
      "source": [
        "# Результат запроса\n",
        "it_industry_count = pd.read_sql_query(query_5_6, connection)\n",
        "# display(it_industry_count)\n",
        "\n",
        "it_industry = int(it_industry_count.iloc[0,0])\n",
        "print(f'\"Разработка программного обеспечения\" в качестве сферы деятельности указана у {it_industry} работодателей.')"
      ]
    },
    {
      "cell_type": "markdown",
      "id": "7b02bb86-0546-40fb-94a4-242f050a5c57",
      "metadata": {
        "id": "7b02bb86-0546-40fb-94a4-242f050a5c57"
      },
      "source": [
        "7. Для компании «Яндекс» выведите список регионов-миллионников, в которых представлены вакансии компании, вместе с количеством вакансий в этих регионах. Также добавьте строку Total с общим количеством вакансий компании. Результат отсортируйте по возрастанию количества.\n",
        "\n",
        "Список городов-милионников надо взять [отсюда](https://ru.wikipedia.org/wiki/%D0%93%D0%BE%D1%80%D0%BE%D0%B4%D0%B0-%D0%BC%D0%B8%D0%BB%D0%BB%D0%B8%D0%BE%D0%BD%D0%B5%D1%80%D1%8B_%D0%A0%D0%BE%D1%81%D1%81%D0%B8%D0%B8). \n",
        "\n",
        "Если возникнут трудности с этим задание посмотрите материалы модуля  PYTHON-17. Как получать данные из веб-источников и API. "
      ]
    },
    {
      "cell_type": "code",
      "execution_count": null,
      "id": "ZdfrL6gIs1Pn",
      "metadata": {
        "id": "ZdfrL6gIs1Pn"
      },
      "outputs": [],
      "source": [
        "# Код для получения списка городов-милионников\n",
        "import requests\n",
        "from bs4 import BeautifulSoup\n",
        "from pprint import pprint\n",
        "\n",
        "url = 'https://ru.wikipedia.org/wiki/Города-миллионеры_России'\n",
        "# GET-запрос к странице Википедии\n",
        "response = requests.get(url, headers={'User-Agent': 'Chrome/141.0.0.0'})\n",
        "# Создаем объект BeautifulSoup\n",
        "page = BeautifulSoup(response.text, 'html.parser')\n",
        "# Поиск таблицы с городами и извлечение всех ссылок (названий городов)\n",
        "links = page.find('table', 'standard sortable').find_all('a')\n",
        "# Формирование списка городов-миллионников (пропускаем первые 5 служебных ссылок)\n",
        "million_cities = tuple(link.text for link in links[5:])\n",
        "# pprint(million_cities)"
      ]
    },
    {
      "cell_type": "code",
      "execution_count": null,
      "id": "5a0e32a4-e68a-4365-8a39-2fe24c542c36",
      "metadata": {
        "id": "5a0e32a4-e68a-4365-8a39-2fe24c542c36"
      },
      "outputs": [],
      "source": [
        "# Запрос количества вакансий компании Яндекс, в городах миллиониках\n",
        "query_5_7 = f'''\n",
        "-- WITH для подсчета вакансий Яндекса по городам-миллионникам\n",
        "WITH yandex_area_cnt AS(\n",
        "    SELECT\n",
        "        a.name AS city,\n",
        "        COUNT(*)\n",
        "    FROM vacancies v\n",
        "        -- Связываем вакансии с регионами\n",
        "        JOIN areas a ON a.id = v.area_id\n",
        "        -- Связываем вакансии с работодателями\n",
        "        JOIN employers e ON e.id = v.employer_id \n",
        "    WHERE\n",
        "        e.name = 'Яндекс'              -- Фильтруем по компании Яндекс\n",
        "        AND a.name IN {million_cities} -- Только города-миллионники\n",
        "    -- группируем по городам для подсчета\n",
        "    GROUP BY\n",
        "        a.id,\n",
        "        a.name\n",
        ")\n",
        "-- Основные данные по городам + строка с суммой    \n",
        "SELECT * FROM yandex_area_cnt\n",
        "UNION\n",
        "SELECT\n",
        "    'Total',                           -- Строка с общим итогом\n",
        "    SUM(count)\n",
        "FROM yandex_area_cnt\n",
        "ORDER BY count\n",
        "'''"
      ]
    },
    {
      "cell_type": "code",
      "execution_count": null,
      "id": "ttPhiO1rsvPq",
      "metadata": {
        "id": "ttPhiO1rsvPq"
      },
      "outputs": [
        {
          "name": "stdout",
          "output_type": "stream",
          "text": [
            "Выборка содержит 17 строк\n",
            "Всего в городах-миллионниках компанией Яндекс размещено 485 вакансий\n"
          ]
        }
      ],
      "source": [
        "# Результат запроса\n",
        "yandex_area_cnt = pd.read_sql_query(query_5_7, connection)\n",
        "# display(jandex_area_cnt)\n",
        "\n",
        "# Сколько строк получилось в вашей выборке?\n",
        "print(f'Выборка содержит {yandex_area_cnt.shape[0]} строк')\n",
        "\n",
        "# Какой результат получился в строке Total?\n",
        "total = int(yandex_area_cnt[yandex_area_cnt['city'] == 'Total'].iloc[0,1])\n",
        "print(f'Всего в городах-миллионниках компанией Яндекс размещено {total} вакансий')"
      ]
    },
    {
      "cell_type": "markdown",
      "id": "04966e40-3bc3-4dc8-9ba2-e80580ce3abc",
      "metadata": {
        "id": "04966e40-3bc3-4dc8-9ba2-e80580ce3abc"
      },
      "source": [
        "***"
      ]
    },
    {
      "cell_type": "code",
      "execution_count": null,
      "id": "aGGyER-yt4SR",
      "metadata": {
        "id": "aGGyER-yt4SR"
      },
      "outputs": [
        {
          "name": "stdout",
          "output_type": "stream",
          "text": [
            "Выводы по анализу работодателей:\n",
            "\n",
            "1. Топ 5 работодателей в базе данных по количеству размещенных вакансий: Яндекс, Ростелеком, Тинькофф, СБЕР, Газпром нефть.\n",
            "Вывод: IT-ти и банковские отрасли являются лидирующими на рынке труда;\n",
            "\n",
            "2. Регион с максимальным количеством работодателей, где отсутствуют размещенные вакансии - Россия.\n",
            "Вывод: работодатели обычно указывают конкретный город в вакансиях и редко ищут кандидатов по всей стране;\n",
            "\n",
            "3. Максимальное количество регионов в которых публикуются вакансии от одного работодателя - 181, работодатель - \"Яндекс\". \n",
            "Вывод: для IT-индустрии географическое расположение не является существенным фактором;\n",
            "\n",
            "4. 8419 работодателей в базе данных (35.8% от общего числа) не указали сферу деятельности. \n",
            "Тогда как, например, компания \"2ГИС\" имеет 4 сферы деятельности;\n",
            "Вывод: большое количество работодателей не заполняют данные, тогда как некоторые указывают несколько сфер\n",
            "\n",
            "6. Сферу \"Разработка программного обеспечения\" указали 3553 работодателей (15.1% от общего числа).\n",
            "Вывод: высокая востребованность IT-специальностей на рынке труда\n",
            "\n",
            "7. В России 16 городов-миллионников. Компанией Яндекс (лидер по количеству размещенных вакансий), \n",
            "лишь треть вакансий (485) размещены в городах миллиониках.\n",
            "Вывод: IT-специальности имеют широкий территориальный охват за пределами крупных городов\n",
            "\n"
          ]
        }
      ],
      "source": [
        "# Выводы по анализу работодателей\n",
        "print(f'''Выводы по анализу работодателей:\n",
        "\\n1. Топ 5 работодателей в базе данных по количеству размещенных вакансий: {', '.join(top5_employer['name'])}.\n",
        "Вывод: IT-ти и банковские отрасли являются лидирующими на рынке труда;\n",
        "\\n2. Регион с максимальным количеством работодателей, где отсутствуют размещенные вакансии - {employer_in_area.iloc[0,0]}.\n",
        "Вывод: работодатели обычно указывают конкретный город в вакансиях и редко ищут кандидатов по всей стране;\n",
        "\\n3. Максимальное количество регионов в которых публикуются вакансии от одного работодателя - {cnt_emp_area.iloc[0,1]}, работодатель - \"{cnt_emp_area.iloc[0,0]}\". \n",
        "Вывод: для IT-индустрии географическое расположение не является существенным фактором;\n",
        "\\n4. {null_industries} работодателей в базе данных ({null_industries/total_employers*100:.1f}% от общего числа) не указали сферу деятельности. \n",
        "Тогда как, например, компания \"{company_name}\" имеет 4 сферы деятельности;\n",
        "Вывод: большое количество работодателей не заполняют данные, тогда как некоторые указывают несколько сфер\n",
        "\\n6. Сферу \"Разработка программного обеспечения\" указали {it_industry} работодателей ({it_industry/total_employers*100:.1f}% от общего числа).\n",
        "Вывод: высокая востребованность IT-специальностей на рынке труда\n",
        "\\n7. В России {len(million_cities)} городов-миллионников. Компанией Яндекс (лидер по количеству размещенных вакансий), \\nлишь треть вакансий ({total}) размещены в городах миллиониках.\n",
        "Вывод: IT-специальности имеют широкий территориальный охват за пределами крупных городов\n",
        "''')"
      ]
    },
    {
      "cell_type": "markdown",
      "id": "520c1017",
      "metadata": {},
      "source": [
        "**Общий вывод:** Анализ работодателей выявил лидерство IT и банковского сектора. При этом IT-компании демонстрируют наибольший географический охват, активно нанимая за пределами крупных городов. Однако стоит учитывать в дальнейшем анализе, что качество данных ограничено - каждый третий работодатель не указал сферу деятельности. В целом рынок характеризуется концентрацией вакансий у крупных игроков при широком региональном распределении."
      ]
    },
    {
      "cell_type": "markdown",
      "id": "b1ef156a-efcb-49ce-bb23-90763e7f35b2",
      "metadata": {
        "id": "b1ef156a-efcb-49ce-bb23-90763e7f35b2",
        "tags": []
      },
      "source": [
        "# Юнит 6. Предметный анализ"
      ]
    },
    {
      "cell_type": "markdown",
      "id": "b9cd50a0-992d-4988-8463-2b2b1c4629b4",
      "metadata": {
        "id": "b9cd50a0-992d-4988-8463-2b2b1c4629b4"
      },
      "source": [
        "1. Сколько вакансий имеет отношение к данным?\n",
        "\n",
        "Считаем, что вакансия имеет отношение к данным, если в её названии содержатся слова 'data' или 'данн'.\n",
        "\n",
        "*Подсказка: Обратите внимание, что названия вакансий могут быть написаны в любом регистре.* \n"
      ]
    },
    {
      "cell_type": "code",
      "execution_count": null,
      "id": "54ab0e50-c0f1-47cc-a54b-bc5c8bc363f9",
      "metadata": {
        "id": "54ab0e50-c0f1-47cc-a54b-bc5c8bc363f9"
      },
      "outputs": [],
      "source": [
        "# Количество вакансий имеющих отношение к данным\n",
        "query_6_1 = f'''\n",
        "SELECT\n",
        "    COUNT(*)\n",
        "FROM vacancies\n",
        "WHERE\n",
        "    name ILIKE '%data%'    -- Поиск слова 'data' в любом регистре\n",
        "    OR name ILIKE '%данн%' -- Поиск 'данн' в любом регистре\n",
        "'''"
      ]
    },
    {
      "cell_type": "code",
      "execution_count": null,
      "id": "9F1meAqsuUjd",
      "metadata": {
        "id": "9F1meAqsuUjd"
      },
      "outputs": [
        {
          "name": "stdout",
          "output_type": "stream",
          "text": [
            "Количество вакансий, связанных с данными: 1771\n"
          ]
        }
      ],
      "source": [
        "# Результат запроса\n",
        "data_vacancies_df = pd.read_sql_query(query_6_1, connection)\n",
        "# display(data_vacancies_df)\n",
        "\n",
        "data_vacancies = int(data_vacancies_df.iloc[0,0])\n",
        "print(f'Количество вакансий, связанных с данными: {data_vacancies}')"
      ]
    },
    {
      "cell_type": "markdown",
      "id": "4dea20cb-a36b-474a-a0b9-e08e8e3857a5",
      "metadata": {
        "id": "4dea20cb-a36b-474a-a0b9-e08e8e3857a5"
      },
      "source": [
        "2. Сколько есть подходящих вакансий для начинающего дата-сайентиста? \n",
        "Будем считать вакансиями для дата-сайентистов такие, в названии которых есть хотя бы одно из следующих сочетаний:\n",
        "* 'data scientist'\n",
        "* 'data science'\n",
        "* 'исследователь данных'\n",
        "* 'ML' (здесь не нужно брать вакансии по HTML)\n",
        "* 'machine learning'\n",
        "* 'машинн%обучен%'\n",
        "\n",
        "** В следующих заданиях мы продолжим работать с вакансиями по этому условию.*\n",
        "\n",
        "Считаем вакансиями для специалистов уровня Junior следующие:\n",
        "* в названии есть слово 'junior' *или*\n",
        "* требуемый опыт — Нет опыта *или*\n",
        "* тип трудоустройства — Стажировка.\n",
        " "
      ]
    },
    {
      "cell_type": "code",
      "execution_count": null,
      "id": "9c61b3c0-bb66-46c9-ae1e-81d3f5752b4a",
      "metadata": {
        "id": "9c61b3c0-bb66-46c9-ae1e-81d3f5752b4a"
      },
      "outputs": [],
      "source": [
        "# Количество подходящих вакансий для начинающего DS\n",
        "# Формируем условия для поиска Data Science вакансий\n",
        "ds_job_list = [\n",
        "    'data scientist', \n",
        "    'data science', \n",
        "    'исследователь данных',\n",
        "    'machine learning', \n",
        "    'машинн%обучен'\n",
        "]\n",
        "ds_job_list = ' OR '.join([f\"name ILIKE '%{elem}%'\" for elem in ds_job_list])\n",
        "\n",
        "# Базовый запрос для выделения всех DS-вакансий (будет использоваться в последующих заданиях)\n",
        "ds_vacancy = f'''\n",
        "    SELECT *\n",
        "    FROM vacancies\n",
        "    WHERE {ds_job_list}                -- Вакансии из списка ds_job_list\n",
        "        -- Добавляем поиск по ML вакансиям, исключая HTML в любом регистре\n",
        "        OR (name LIKE '%ML%' AND name NOT ILIKE '%HTML%')\n",
        "'''\n",
        "# Основной запрос: поиск Junior-позиций среди DS-вакансий\n",
        "query_6_2 = f'''\n",
        "-- Используем WITH с ранее определенными DS-вакансиям\n",
        "WITH ds_vacancy AS ({ds_vacancy})\n",
        "SELECT\n",
        "    COUNT(*)\n",
        "FROM ds_vacancy\n",
        "WHERE\n",
        "    name ILIKE '%junior%'              -- В названии есть слово junior\n",
        "    OR experience ILIKE '%Нет опыта%'  -- Требуемый опыт: нет опыта\n",
        "    OR employment ILIKE '%Стажировка%' -- Тип трудоустройства: стажировка\n",
        "'''"
      ]
    },
    {
      "cell_type": "code",
      "execution_count": null,
      "id": "ZNM-LLYuu1dj",
      "metadata": {
        "id": "ZNM-LLYuu1dj"
      },
      "outputs": [
        {
          "name": "stdout",
          "output_type": "stream",
          "text": [
            "Количество вакансий для начинающего дата-сайентиста: 51\n"
          ]
        }
      ],
      "source": [
        "# Результат запроса\n",
        "junior_ds_vacancies_df = pd.read_sql_query(query_6_2, connection)\n",
        "# display(junior_ds_vacancies)\n",
        "\n",
        "junior_ds_vacancies = int(junior_ds_vacancies_df.iloc[0,0])\n",
        "print(f'Количество вакансий для начинающего дата-сайентиста: {junior_ds_vacancies}')"
      ]
    },
    {
      "cell_type": "markdown",
      "id": "eedceb80-c5ca-480e-b27a-278dfb8b4438",
      "metadata": {
        "id": "eedceb80-c5ca-480e-b27a-278dfb8b4438"
      },
      "source": [
        "3. Сколько есть вакансий для DS, в которых в качестве ключевого навыка указан SQL или postgres?\n",
        "\n",
        "** Критерии для отнесения вакансии к DS указаны в предыдущем задании.*"
      ]
    },
    {
      "cell_type": "code",
      "execution_count": 245,
      "id": "69621713-0cc5-4f1b-a1d7-bb144fa6148c",
      "metadata": {
        "id": "69621713-0cc5-4f1b-a1d7-bb144fa6148c"
      },
      "outputs": [],
      "source": [
        "# Текст запроса для подсчета DS-вакансий с навыками SQL/PostgreSQL\n",
        "query_6_3 = f'''\n",
        "WITH ds_vacancy AS ({ds_vacancy})    -- Используем наше определение DS-вакансий\n",
        "SELECT\n",
        "    COUNT(*)\n",
        "FROM ds_vacancy\n",
        "WHERE\n",
        "    key_skills ILIKE '%SQL%'         -- Поиск SQL в навыках (без учета регистра)\n",
        "    OR key_skills ILIKE '%postgres%' -- Поиск PostgreSQL в навыках (без учета регистра)\n",
        "'''\n",
        "\n",
        "# Альтернативный запрос - для проверки расхождений с эталонным ответом\n",
        "# В базовом запросе используется LIKE вместо ILIKE для фильтрации ML-вакансий\n",
        "query_6_3_1 = f'''\n",
        "WITH ds_vacancy AS (\n",
        "    SELECT *\n",
        "    FROM vacancies\n",
        "    WHERE {ds_job_list}\n",
        "        -- Исправление: ILIKE вместо LIKE\n",
        "        OR (name ILIKE '%ML%' AND name NOT ILIKE '%HTML%')\n",
        ")\n",
        "SELECT\n",
        "    COUNT(*)\n",
        "FROM ds_vacancy\n",
        "WHERE\n",
        "    key_skills ILIKE '%SQL%'\n",
        "    OR key_skills ILIKE '%postgres%'\n",
        "'''"
      ]
    },
    {
      "cell_type": "code",
      "execution_count": 246,
      "id": "alA8WEAAvGdf",
      "metadata": {
        "id": "alA8WEAAvGdf"
      },
      "outputs": [
        {
          "name": "stdout",
          "output_type": "stream",
          "text": [
            "Результаты подсчета DS-вакансий с навыками SQL/PostgreSQL:\n",
            "• Мой подсчет: 201 вакансий\n",
            "• Эталонный подсчет: 229 вакансий\n",
            "• Расхождение: 28 вакансий\n"
          ]
        }
      ],
      "source": [
        "# Выполнение основного запроса\n",
        "sql_postgres_skills_df = pd.read_sql_query(query_6_3, connection)\n",
        "# display(sql_postgres_skills)\n",
        "sql_postgres_skills = int(sql_postgres_skills_df.iloc[0,0])\n",
        "\n",
        "# Выполнение альтернативного запроса (для сравнения с эталоном)\n",
        "for_answer_df = pd.read_sql_query(query_6_3_1, connection)\n",
        "# display(for_answer_df)\n",
        "for_answer = int(for_answer_df.iloc[0,0])\n",
        "\n",
        "# Анализ результатов\n",
        "difference = for_answer - sql_postgres_skills\n",
        "print(f'''Результаты подсчета DS-вакансий с навыками SQL/PostgreSQL:\n",
        "• Мой подсчет: {sql_postgres_skills} вакансий\n",
        "• Эталонный подсчет: {for_answer} вакансий\n",
        "• Расхождение: {difference} вакансий''')"
      ]
    },
    {
      "cell_type": "markdown",
      "id": "1be1e9c6-37cf-4a5f-bfeb-04cab799dc80",
      "metadata": {
        "id": "1be1e9c6-37cf-4a5f-bfeb-04cab799dc80"
      },
      "source": [
        "4. Проверьте, насколько популярен Python в требованиях работодателей к DS.Для этого вычислите количество вакансий, в которых в качестве ключевого навыка указан Python.\n",
        "\n",
        "** Это можно сделать помощью запроса, аналогичного предыдущему.*"
      ]
    },
    {
      "cell_type": "code",
      "execution_count": null,
      "id": "0036a355-9ccf-4564-8b01-73d8194297e7",
      "metadata": {
        "id": "0036a355-9ccf-4564-8b01-73d8194297e7"
      },
      "outputs": [],
      "source": [
        "# Текст запроса для подсчета DS-вакансий с навыком Python\n",
        "query_6_4 = f'''\n",
        "WITH ds_vacancy AS ({ds_vacancy})\n",
        "SELECT\n",
        "    COUNT(*)\n",
        "FROM ds_vacancy\n",
        "WHERE\n",
        "    -- поиск Python в навыках (без учета регистра)\n",
        "    key_skills ILIKE '%Python%'\n",
        "'''"
      ]
    },
    {
      "cell_type": "code",
      "execution_count": null,
      "id": "1i-5WyucvQ6v",
      "metadata": {
        "id": "1i-5WyucvQ6v"
      },
      "outputs": [
        {
          "name": "stdout",
          "output_type": "stream",
          "text": [
            "Python указан в качестве ключевого навыка в 351 вакансии.\n"
          ]
        }
      ],
      "source": [
        "# Результат запроса\n",
        "python_skill_df = pd.read_sql_query(query_6_4, connection)\n",
        "# display(python_skill_df)\n",
        "python_skill = int(python_skill_df.iloc[0,0])\n",
        "print(f'Python указан в качестве ключевого навыка в {python_skill} вакансии.')"
      ]
    },
    {
      "cell_type": "markdown",
      "id": "ec3c8db7-fa21-4a41-a994-1af63742a642",
      "metadata": {
        "id": "ec3c8db7-fa21-4a41-a994-1af63742a642"
      },
      "source": [
        "5. Сколько ключевых навыков в среднем указывают в вакансиях для DS?\n",
        "Ответ округлите до двух знаков после точки-разделителя."
      ]
    },
    {
      "cell_type": "code",
      "execution_count": 249,
      "id": "949132bc-d5b6-4611-8218-0b9a504d74f4",
      "metadata": {
        "id": "949132bc-d5b6-4611-8218-0b9a504d74f4"
      },
      "outputs": [],
      "source": [
        "# Сравнение двух подходов к подсчету среднего количества навыков - Python vs SQL\n",
        "# (данное сравнение не требовалось в задании, выполнено из интереса)\n",
        "\n",
        "# Подход 1: Получение данных и расчет в Python\n",
        "# Запрос для получения всех ненулевых навыков из DS-вакансий\n",
        "query_6_5_1 = f'''\n",
        "WITH ds_vacancy AS ({ds_vacancy})\n",
        "SELECT\n",
        "    key_skills\n",
        "FROM ds_vacancy\n",
        "WHERE\n",
        "    -- исключаем NULL для корректной обработки в Python\n",
        "    key_skills IS NOT NULL\n",
        "'''\n",
        "\n",
        "# Подход 2: Полный расчет в SQL\n",
        "# Используем разницу длин строк для подсчета количества навыков (разделитель - '\\t')\n",
        "query_6_5_2 = f'''\n",
        "WITH ds_vacancy AS ({ds_vacancy})\n",
        "SELECT \n",
        "    AVG(\n",
        "        -- Подсчет количества навыков через количество разделителей:\n",
        "        -- (общая длина - длина без разделителей) + 1\n",
        "        LENGTH(key_skills) - LENGTH(REPLACE(key_skills, '\\t', '')) + 1 \n",
        "    ) AS avg_skills_sql\n",
        "FROM ds_vacancy\n",
        "-- В SQL AVG() автоматически игнорирует NULL значения\n",
        "'''\n"
      ]
    },
    {
      "cell_type": "code",
      "execution_count": 250,
      "id": "a3V24Tvmviqk",
      "metadata": {
        "id": "a3V24Tvmviqk"
      },
      "outputs": [
        {
          "name": "stdout",
          "output_type": "stream",
          "text": [
            "Результаты подсчета среднего количества ключевых навыков в DS-вакансиях:\n",
            "• SQL-подсчет: 6.41 навыков\n",
            "• Python-подсчет: 6.41 навыков\n"
          ]
        }
      ],
      "source": [
        "# Выполнение запросов\n",
        "skills_for_python_df = pd.read_sql_query(query_6_5_1, connection)\n",
        "sql_calculation_df = pd.read_sql_query(query_6_5_2, connection)\n",
        "\n",
        "# Расчет среднего количества навыков в Python\n",
        "skills_for_python_df['skills_count'] = skills_for_python_df['key_skills'].apply(lambda x: len(x.split('\\t')))\n",
        "avg_skills_python = skills_for_python_df['skills_count'].mean().round(2)\n",
        "\n",
        "# Расчет средствами SQL\n",
        "avg_skills_sql = float(sql_calculation_df.iloc[0,0])\n",
        "\n",
        "# Сравнение результатов и вывод ответа\n",
        "print(f'''Результаты подсчета среднего количества ключевых навыков в DS-вакансиях:\n",
        "• SQL-подсчет: {avg_skills_sql:.2f} навыков\n",
        "• Python-подсчет: {avg_skills_python} навыков''')"
      ]
    },
    {
      "cell_type": "markdown",
      "id": "1041c17a-ca8f-4543-a0ca-32778914fb00",
      "metadata": {
        "id": "1041c17a-ca8f-4543-a0ca-32778914fb00"
      },
      "source": [
        "6. Напишите запрос, позволяющий вычислить, какую зарплату для DS в **среднем** указывают для каждого типа требуемого опыта (уникальное значение из поля *experience*). \n",
        "\n",
        "При решении задачи примите во внимание следующее:\n",
        "1. Рассматриваем только вакансии, у которых заполнено хотя бы одно из двух полей с зарплатой.\n",
        "2. Если заполнены оба поля с зарплатой, то считаем зарплату по каждой вакансии как сумму двух полей, делённую на 2. Если заполнено только одно из полей, то его и считаем зарплатой по вакансии.\n",
        "3. Если в расчётах участвует null, в результате он тоже даст null (посмотрите, что возвращает запрос select 1 + null). Чтобы избежать этой ситуацию, мы воспользуемся функцией [coalesce](https://postgrespro.ru/docs/postgresql/9.5/functions-conditional#functions-coalesce-nvl-ifnull), которая заменит null на значение, которое мы передадим. Например, посмотрите, что возвращает запрос `select 1 + coalesce(null, 0)`\n",
        "\n",
        "Выясните, на какую зарплату в среднем может рассчитывать дата-сайентист с опытом работы от 3 до 6 лет. Результат округлите до целого числа. "
      ]
    },
    {
      "cell_type": "code",
      "execution_count": 251,
      "id": "6a743d39-5204-48d3-8271-b9f88e68d40e",
      "metadata": {
        "id": "6a743d39-5204-48d3-8271-b9f88e68d40e"
      },
      "outputs": [],
      "source": [
        "# Расчет средней зарплаты для Data Science по уровням опыта\n",
        "query_6_6 = f'''\n",
        "WITH ds_vacancy AS ({ds_vacancy})\n",
        "SELECT\n",
        "    experience,\n",
        "    AVG(\n",
        "        COALESCE(\n",
        "            -- если обе зарплаты указаны - берем среднее\n",
        "            (salary_from + salary_to) / 2,\n",
        "            salary_from,     -- если указана только from\n",
        "            salary_to        -- если указана только to\n",
        "            )\n",
        "        ) AS avg_salary\n",
        "FROM ds_vacancy\n",
        "WHERE\n",
        "    salary_from IS NOT NULL \n",
        "    OR salary_to IS NOT NULL -- фильтруем вакансии с указанной зарплатой\n",
        "GROUP BY experience\n",
        "'''"
      ]
    },
    {
      "cell_type": "code",
      "execution_count": null,
      "id": "aRIJ0mZEwU1_",
      "metadata": {
        "id": "aRIJ0mZEwU1_"
      },
      "outputs": [
        {
          "data": {
            "text/html": [
              "<div>\n",
              "<style scoped>\n",
              "    .dataframe tbody tr th:only-of-type {\n",
              "        vertical-align: middle;\n",
              "    }\n",
              "\n",
              "    .dataframe tbody tr th {\n",
              "        vertical-align: top;\n",
              "    }\n",
              "\n",
              "    .dataframe thead th {\n",
              "        text-align: right;\n",
              "    }\n",
              "</style>\n",
              "<table border=\"1\" class=\"dataframe\">\n",
              "  <thead>\n",
              "    <tr style=\"text-align: right;\">\n",
              "      <th></th>\n",
              "      <th>experience</th>\n",
              "      <th>avg_salary</th>\n",
              "    </tr>\n",
              "  </thead>\n",
              "  <tbody>\n",
              "    <tr>\n",
              "      <th>0</th>\n",
              "      <td>От 3 до 6 лет</td>\n",
              "      <td>243115</td>\n",
              "    </tr>\n",
              "    <tr>\n",
              "      <th>1</th>\n",
              "      <td>От 1 года до 3 лет</td>\n",
              "      <td>139675</td>\n",
              "    </tr>\n",
              "    <tr>\n",
              "      <th>2</th>\n",
              "      <td>Нет опыта</td>\n",
              "      <td>74643</td>\n",
              "    </tr>\n",
              "  </tbody>\n",
              "</table>\n",
              "</div>"
            ],
            "text/plain": [
              "           experience  avg_salary\n",
              "0       От 3 до 6 лет      243115\n",
              "1  От 1 года до 3 лет      139675\n",
              "2           Нет опыта       74643"
            ]
          },
          "metadata": {},
          "output_type": "display_data"
        },
        {
          "name": "stdout",
          "output_type": "stream",
          "text": [
            "Дата-сайентист с опытом работы от 3 до 6 лет может претендовать в среднем на 243115 рублей.\n"
          ]
        }
      ],
      "source": [
        "# Результат запроса\n",
        "exp_avg_salary = pd.read_sql_query(query_6_6, connection)\n",
        "# Округляем зарплаты до целых чисел\n",
        "exp_avg_salary['avg_salary'] = exp_avg_salary['avg_salary'].round().astype(int)\n",
        "# Таблица с результатами\n",
        "display(exp_avg_salary)\n",
        "\n",
        "# Извлекаем зарплату для специалистов с опытом 3-6 лет\n",
        "salary_3_6_years = exp_avg_salary[\n",
        "    exp_avg_salary['experience'] == 'От 3 до 6 лет'\n",
        "]['avg_salary'].values[0]\n",
        "\n",
        "print(f'Дата-сайентист с опытом работы от 3 до 6 лет может претендовать в среднем на {salary_3_6_years} рублей.')"
      ]
    },
    {
      "cell_type": "markdown",
      "id": "6a7892b4-4113-4746-adce-18aa2844f18e",
      "metadata": {
        "id": "6a7892b4-4113-4746-adce-18aa2844f18e"
      },
      "source": [
        "***"
      ]
    },
    {
      "cell_type": "code",
      "execution_count": 253,
      "id": "UjLWUptVwY1o",
      "metadata": {
        "id": "UjLWUptVwY1o"
      },
      "outputs": [
        {
          "name": "stdout",
          "output_type": "stream",
          "text": [
            "\n",
            "Выводы по предметному анализу данных:\n",
            "\n",
            "1. Доля вакансий, связанных с данными, составляет 3.6% от общего числа, \n",
            "что указывает на то, что профессии, связанные с данными, остаются специализированными и требуют высокой квалификации.\n",
            "\n",
            "2. Для начинающих дата-сайентистов (Junior) доступно всего 51 вакансия. \n",
            "Это очень ограниченное количество точек входа в профессию для новичков, что указывает на то, \n",
            "что большинство компаний ищут уже подготовленных специалистов.\n",
            "\n",
            "3. Ключевые навыки. Python доминирует как основной инструмент (требуется в 351 вакансиях). \n",
            "SQL также является критически важным навыком (указан в 201 вакансиях). \n",
            "Данные показатели подтверждают, что ключевые навыки в DS строятся на программировании и работе с базами данных.\n",
            "В среднем в вакансиях для DS указывается 6.41 ключевых навыков, что отражает высокие требования к специалистам DS.\n",
            "\n",
            "4. Зарплатная вилка (74643→139675→243115 руб.) показывает сильную зависимость дохода от опыта работы. \n",
            "Разрыв почти в 3,5 раза между начинающими и опытными специалистами.\n",
            "\n"
          ]
        }
      ],
      "source": [
        "print(f'''\n",
        "Выводы по предметному анализу данных:\n",
        "      \n",
        "1. Доля вакансий, связанных с данными, составляет {data_vacancies/total_vacancies*100:.1f}% от общего числа, \n",
        "что указывает на то, что профессии, связанные с данными, остаются специализированными и требуют высокой квалификации.\n",
        "\n",
        "2. Для начинающих дата-сайентистов (Junior) доступно всего {junior_ds_vacancies} вакансия. \n",
        "Это очень ограниченное количество точек входа в профессию для новичков, что указывает на то, \n",
        "что большинство компаний ищут уже подготовленных специалистов.\n",
        "\n",
        "3. Ключевые навыки. Python доминирует как основной инструмент (требуется в {python_skill} вакансиях). \n",
        "SQL также является критически важным навыком (указан в {sql_postgres_skills} вакансиях). \n",
        "Данные показатели подтверждают, что ключевые навыки в DS строятся на программировании и работе с базами данных.\n",
        "В среднем в вакансиях для DS указывается {avg_skills_python} ключевых навыков, что отражает высокие требования к специалистам DS.\n",
        "\n",
        "4. Зарплатная вилка ({exp_avg_salary.iloc[2,1]}→{exp_avg_salary.iloc[1,1]}→{exp_avg_salary.iloc[0,1]} руб.) показывает сильную зависимость дохода от опыта работы. \n",
        "Разрыв почти в 3,5 раза между начинающими и опытными специалистами.\n",
        "''')"
      ]
    },
    {
      "cell_type": "markdown",
      "id": "062d46ac",
      "metadata": {},
      "source": [
        "**Основные выводы исследования рынка вакансий Data Science:**\n",
        "\n",
        "- Рынок данных небольшой и требовательный. Вакансии, связанные с данными, занимают лишь около 3.6% от общего числа. Для работы в Data Science нужно много навыков — в среднем 6–7 на одну позицию. Новичкам сложно попасть в отрасль: всего 51 вакансия уровня junior.\n",
        "- Главные инструменты Data Science — Python и SQL. Python используется чаще всего (351 вакансия), SQL — второй по важности (201 вакансия). То есть без уверенного владения программированием и работой с данными в профессию не попасть.\n",
        "- Зарплаты сильно растут с опытом. Junior-специалисты получают около 74 000 ₽, с опытом 1–3 года — примерно 140 000 ₽, а после 3 лет — около 243 000 ₽. Разница между новичками и опытными специалистами — более чем в 3 раза.\n",
        "\n",
        "Вывод: Data Science остается элитной профессией с высоким порогом входа, значительными требованиями к навыкам, \n",
        "но с перспективной зарплатной прогрессией для тех, кто готов развиваться в данной отрасли."
      ]
    },
    {
      "cell_type": "markdown",
      "id": "c0ED6fh7wiBT",
      "metadata": {
        "id": "c0ED6fh7wiBT"
      },
      "source": [
        "# Общий вывод по проекту"
      ]
    },
    {
      "cell_type": "markdown",
      "id": "8d0978ae",
      "metadata": {},
      "source": [
        "## Дополнительные исследования"
      ]
    },
    {
      "cell_type": "markdown",
      "id": "eb4726e2",
      "metadata": {},
      "source": [
        "### 1. Анализ расхождений в задании 6.3"
      ]
    },
    {
      "cell_type": "markdown",
      "id": "d26966df",
      "metadata": {},
      "source": [
        "Возвращаясь к заданию 6.3 настоящей работы - \"Сколько есть вакансий для DS, в которых в качестве ключевого навыка указан SQL или postgres?\" \n",
        "Хочу понять, почему мой ответ (201) не сходится с эталонным (229). Для этого задам запрос, где будут указаны \"спорные\" 28 вакансий."
      ]
    },
    {
      "cell_type": "code",
      "execution_count": 254,
      "id": "99e191b4",
      "metadata": {},
      "outputs": [
        {
          "name": "stdout",
          "output_type": "stream",
          "text": [
            "Вакансии с SQL которые есть только при вызове ILIKE 'ML': 28\n"
          ]
        },
        {
          "data": {
            "text/html": [
              "<div>\n",
              "<style scoped>\n",
              "    .dataframe tbody tr th:only-of-type {\n",
              "        vertical-align: middle;\n",
              "    }\n",
              "\n",
              "    .dataframe tbody tr th {\n",
              "        vertical-align: top;\n",
              "    }\n",
              "\n",
              "    .dataframe thead th {\n",
              "        text-align: right;\n",
              "    }\n",
              "</style>\n",
              "<table border=\"1\" class=\"dataframe\">\n",
              "  <thead>\n",
              "    <tr style=\"text-align: right;\">\n",
              "      <th></th>\n",
              "      <th>name</th>\n",
              "    </tr>\n",
              "  </thead>\n",
              "  <tbody>\n",
              "    <tr>\n",
              "      <th>0</th>\n",
              "      <td>QA Automation TeamLead</td>\n",
              "    </tr>\n",
              "    <tr>\n",
              "      <th>1</th>\n",
              "      <td>PHP Senior/TeamLead</td>\n",
              "    </tr>\n",
              "    <tr>\n",
              "      <th>2</th>\n",
              "      <td>TeamLead группы системного администрирования</td>\n",
              "    </tr>\n",
              "    <tr>\n",
              "      <th>3</th>\n",
              "      <td>Senior Developer (teamlead)</td>\n",
              "    </tr>\n",
              "    <tr>\n",
              "      <th>4</th>\n",
              "      <td>Teamlead Java</td>\n",
              "    </tr>\n",
              "    <tr>\n",
              "      <th>5</th>\n",
              "      <td>TeamLead</td>\n",
              "    </tr>\n",
              "    <tr>\n",
              "      <th>6</th>\n",
              "      <td>Руководитель группы разработки (TeamLead Java)</td>\n",
              "    </tr>\n",
              "    <tr>\n",
              "      <th>7</th>\n",
              "      <td>TeamLead Analyst BI (AI Driving Data)</td>\n",
              "    </tr>\n",
              "    <tr>\n",
              "      <th>8</th>\n",
              "      <td>Teamlead отдела системной аналитики</td>\n",
              "    </tr>\n",
              "    <tr>\n",
              "      <th>9</th>\n",
              "      <td>Fullstack Teamlead (Javascript vue.js + node.js)</td>\n",
              "    </tr>\n",
              "    <tr>\n",
              "      <th>10</th>\n",
              "      <td>Руководитель подразделения разработки (Teamlead)</td>\n",
              "    </tr>\n",
              "    <tr>\n",
              "      <th>11</th>\n",
              "      <td>TeamLead</td>\n",
              "    </tr>\n",
              "    <tr>\n",
              "      <th>12</th>\n",
              "      <td>Teamlead отдела системной аналитики</td>\n",
              "    </tr>\n",
              "    <tr>\n",
              "      <th>13</th>\n",
              "      <td>Руководитель группы разработки / Oracle TeamLead</td>\n",
              "    </tr>\n",
              "    <tr>\n",
              "      <th>14</th>\n",
              "      <td>Teamlead</td>\n",
              "    </tr>\n",
              "    <tr>\n",
              "      <th>15</th>\n",
              "      <td>Start Teamlead</td>\n",
              "    </tr>\n",
              "    <tr>\n",
              "      <th>16</th>\n",
              "      <td>Start Teamlead (начинающий)</td>\n",
              "    </tr>\n",
              "    <tr>\n",
              "      <th>17</th>\n",
              "      <td>TeamLead JAVA / Руководитель разработки</td>\n",
              "    </tr>\n",
              "    <tr>\n",
              "      <th>18</th>\n",
              "      <td>Teamlead направления разработки DWH</td>\n",
              "    </tr>\n",
              "    <tr>\n",
              "      <th>19</th>\n",
              "      <td>TeamLead JAVA / Руководитель разработки</td>\n",
              "    </tr>\n",
              "    <tr>\n",
              "      <th>20</th>\n",
              "      <td>Java TeamLead</td>\n",
              "    </tr>\n",
              "    <tr>\n",
              "      <th>21</th>\n",
              "      <td>Backend- разработчик (Middle/Senior-TeamLeader)</td>\n",
              "    </tr>\n",
              "    <tr>\n",
              "      <th>22</th>\n",
              "      <td>Руководитель группы разработки / Oracle TeamLead</td>\n",
              "    </tr>\n",
              "    <tr>\n",
              "      <th>23</th>\n",
              "      <td>Teamlead Java</td>\n",
              "    </tr>\n",
              "    <tr>\n",
              "      <th>24</th>\n",
              "      <td>TeamLead/Senior</td>\n",
              "    </tr>\n",
              "    <tr>\n",
              "      <th>25</th>\n",
              "      <td>Senior Developer (teamlead)</td>\n",
              "    </tr>\n",
              "    <tr>\n",
              "      <th>26</th>\n",
              "      <td>Руководитель группы разработки (TeamLead PHP)</td>\n",
              "    </tr>\n",
              "    <tr>\n",
              "      <th>27</th>\n",
              "      <td>Системный аналитик /Middle+/Senior/TeamLead</td>\n",
              "    </tr>\n",
              "  </tbody>\n",
              "</table>\n",
              "</div>"
            ],
            "text/plain": [
              "                                                name\n",
              "0                             QA Automation TeamLead\n",
              "1                                PHP Senior/TeamLead\n",
              "2       TeamLead группы системного администрирования\n",
              "3                        Senior Developer (teamlead)\n",
              "4                                      Teamlead Java\n",
              "5                                           TeamLead\n",
              "6     Руководитель группы разработки (TeamLead Java)\n",
              "7              TeamLead Analyst BI (AI Driving Data)\n",
              "8                Teamlead отдела системной аналитики\n",
              "9   Fullstack Teamlead (Javascript vue.js + node.js)\n",
              "10  Руководитель подразделения разработки (Teamlead)\n",
              "11                                          TeamLead\n",
              "12               Teamlead отдела системной аналитики\n",
              "13  Руководитель группы разработки / Oracle TeamLead\n",
              "14                                          Teamlead\n",
              "15                                    Start Teamlead\n",
              "16                       Start Teamlead (начинающий)\n",
              "17           TeamLead JAVA / Руководитель разработки\n",
              "18               Teamlead направления разработки DWH\n",
              "19           TeamLead JAVA / Руководитель разработки\n",
              "20                                     Java TeamLead\n",
              "21   Backend- разработчик (Middle/Senior-TeamLeader)\n",
              "22  Руководитель группы разработки / Oracle TeamLead\n",
              "23                                     Teamlead Java\n",
              "24                                   TeamLead/Senior\n",
              "25                       Senior Developer (teamlead)\n",
              "26     Руководитель группы разработки (TeamLead PHP)\n",
              "27       Системный аналитик /Middle+/Senior/TeamLead"
            ]
          },
          "metadata": {},
          "output_type": "display_data"
        }
      ],
      "source": [
        "# Запрос для выявления вакансий, которые попадают в выборку при ILIKE, но не попадают при LIKE\n",
        "# Это поможет найти источник расхождения в 28 вакансий\n",
        "query_ml_diff_sql = '''\n",
        "SELECT name\n",
        "FROM vacancies\n",
        "WHERE\n",
        "    -- условие из \"правильного\" запроса\n",
        "        (name ILIKE '%ML%' AND name NOT ILIKE '%HTML%')\n",
        "    -- исключаем вакансии, которые нашел бы LIKE\n",
        "    AND (name NOT LIKE '%ML%' AND name NOT ILIKE '%HTML%')\n",
        "    -- только вакансии с SQL/PostgreSQL\n",
        "    AND (key_skills ILIKE '%SQL%' OR key_skills ILIKE '%postgres%')\n",
        "'''\n",
        "# Выполняем запрос и анализируем результаты\n",
        "diff_sql_vacancies = pd.read_sql_query(query_ml_diff_sql, connection)\n",
        "print(f\"Вакансии с SQL которые есть только при вызове ILIKE 'ML': {len(diff_sql_vacancies)}\")\n",
        "display(diff_sql_vacancies)"
      ]
    },
    {
      "cell_type": "markdown",
      "id": "8da4e674",
      "metadata": {},
      "source": [
        "Как мы видим, все эти вакансии не связаны с Data Science, а связаны с поиском **TeaMLead**. Это ложное срабатывание фильтра по \"ML\". **Вывод:** мой ответ - 201 вакансия, остается верным, так как эталонный подсчет включает не нужные для исследования вакансии."
      ]
    },
    {
      "cell_type": "markdown",
      "id": "3939f9f3",
      "metadata": {},
      "source": [
        "### 2. Количество Data Science вакансий и их доля на рынке всех вакансий"
      ]
    },
    {
      "cell_type": "markdown",
      "id": "14be37b3",
      "metadata": {},
      "source": [
        "В процессе работы мы работали с данными о вакансиях связанных с DS, но так и не получили данные, сколько всего связанных с DS вакансий размещено и какую долю от общего числа вакансий они составляют"
      ]
    },
    {
      "cell_type": "code",
      "execution_count": 255,
      "id": "110993c3",
      "metadata": {},
      "outputs": [
        {
          "name": "stdout",
          "output_type": "stream",
          "text": [
            "Всего DS-вакансий: 480\n",
            "Их доля в общем числе вакансий: 1.0%\n"
          ]
        }
      ],
      "source": [
        "# Подсчет общего количества DS-вакансий и их доли на рынке\n",
        "ds_vacancy_count = f'''\n",
        "WITH ds_vacancy AS ({ds_vacancy})\n",
        "SELECT COUNT(*) \n",
        "FROM ds_vacancy\n",
        "'''\n",
        "# Выполняем запрос и извлекаем результат\n",
        "ds_vacancy_total = int(pd.read_sql_query(ds_vacancy_count, connection).iloc[0,0])\n",
        "# Рассчитываем долю DS-вакансий от общего числа\n",
        "ds_share = round(ds_vacancy_total/total_vacancies*100, 1)\n",
        "\n",
        "print(f'Всего DS-вакансий: {ds_vacancy_total}')\n",
        "print(f'Их доля в общем числе вакансий: {ds_share}%')"
      ]
    },
    {
      "cell_type": "markdown",
      "id": "91890971",
      "metadata": {},
      "source": [
        "**Вывод:**\n",
        "Направление Data Science занимает ограниченную, но значимую долю на рынке труда. При общем количестве 49 197 вакансий, к сфере Data Science относятся 480 позиций, что составляет порядка 1% от совокупного предложения.\n",
        "\n",
        "Данные подтверждают ранее выявленные закономерности: Data Science — высокоспециализированная область с повышенным порогом входа, направление не является массовым и требует глубоких профессиональных навыков."
      ]
    },
    {
      "cell_type": "markdown",
      "id": "a9247a8a",
      "metadata": {},
      "source": [
        "### 3. Сравним DS с другими IT вакансиями. Какая доля DS среди всех IT-вакансий?"
      ]
    },
    {
      "cell_type": "code",
      "execution_count": null,
      "id": "e268647f",
      "metadata": {},
      "outputs": [
        {
          "name": "stdout",
          "output_type": "stream",
          "text": [
            "СРАВНЕНИЕ DS С IT-СЕКТОРОМ:\n",
            "• Всего IT-вакансий (разработка ПО): 12499\n",
            "• Всего DS-вакансий: 480\n",
            "• Доля DS среди IT-вакансий: 3.8%\n"
          ]
        }
      ],
      "source": [
        "# Сравнение доли DS среди IT-вакансий\n",
        "# Сначала определим id сферы деятельности - \"Разработка программного обеспечения\"\n",
        "id_it_industry_query = '''\n",
        "SELECT id\n",
        "FROM industries\n",
        "WHERE name = 'Разработка программного обеспечения'\n",
        "'''\n",
        "# Кладем id в переменную\n",
        "id_it_industry = pd.read_sql_query(id_it_industry_query, connection).iloc[0,0]\n",
        "\n",
        "# Найдем общее количество IT-вакансий (вакансии от работодателя с сферой деятельности - разработка ПО)\n",
        "it_vacancies_query = f'''\n",
        "SELECT\n",
        "    COUNT(*)\n",
        "FROM vacancies v\n",
        "    -- Присоединяем работодателей к вакансиям\n",
        "    JOIN employers e ON v.employer_id = e.id\n",
        "    --Присоединяем данные об индустриях\n",
        "    JOIN employers_industries ei ON e.id = ei.employer_id\n",
        "WHERE\n",
        "    -- где ID \"Разработка программного обеспечения\"\n",
        "    ei.industry_id = '{id_it_industry}'\n",
        "'''\n",
        "\n",
        "# Выполняем запросы\n",
        "it_vacancies_total = int(pd.read_sql_query(it_vacancies_query, connection).iloc[0,0])\n",
        "# Рассчитываем долю\n",
        "ds_share_in_it = round(ds_vacancy_total / it_vacancies_total * 100, 1)\n",
        "\n",
        "print(f'''СРАВНЕНИЕ DS С IT-СЕКТОРОМ:\n",
        "• Всего IT-вакансий (разработка ПО): {it_vacancies_total}\n",
        "• Всего DS-вакансий: {ds_vacancy_total}\n",
        "• Доля DS среди IT-вакансий: {ds_share_in_it}%''')"
      ]
    },
    {
      "cell_type": "markdown",
      "id": "df8d9a53",
      "metadata": {},
      "source": [
        "**Вывод:** Data Science занимает небольшую долю в сегменте разработки программного обеспечения — около 3.8%. Примерно такая же доля сохраняется и среди всех вакансий, связанных с данными, по отношению к общему рынку труда. Это подтверждает, что направление остаётся нишевым и специализированным, с ограниченным количеством позиций и высоким уровнем требований к квалификации специалистов."
      ]
    },
    {
      "cell_type": "markdown",
      "id": "f1933818",
      "metadata": {},
      "source": [
        "### 4. География зарплат в Data Science"
      ]
    },
    {
      "cell_type": "markdown",
      "id": "b3e5f496",
      "metadata": {},
      "source": [
        "4.1. Средняя зарплата Data Science по городам-миллионникам"
      ]
    },
    {
      "cell_type": "code",
      "execution_count": 257,
      "id": "95224f65",
      "metadata": {},
      "outputs": [],
      "source": [
        "# Добавлю библиотеку для построения графиков\n",
        "import plotly.express as px\n",
        "\n",
        "# Сравним уровень зарплат DS по городам-миллионникам\n",
        "area_salary_query = f'''\n",
        "WITH ds_vacancy AS ({ds_vacancy})\n",
        "SELECT \n",
        "    a.name AS city,\n",
        "    COUNT(*) AS vacancies_count,\n",
        "    -- Округляю значение сразу в SQL:\n",
        "    -- беру среднее между salary_from и salary_to, если оба указаны;\n",
        "    -- иначе использую ненулевое поле.\n",
        "    ROUND(\n",
        "        AVG(\n",
        "            COALESCE(\n",
        "                (salary_from + salary_to)/2, \n",
        "                salary_from, \n",
        "                salary_to\n",
        "            )\n",
        "        )\n",
        "    ) AS avg_salary                         -- Средняя заработная плата\n",
        "FROM ds_vacancy v\n",
        "JOIN areas a ON v.area_id = a.id            -- Присоединяю таблицу регионов\n",
        "WHERE\n",
        "    a.name IN {million_cities}              -- Фильтрую по городам-миллионникам\n",
        "    AND (salary_from IS NOT NULL \n",
        "         OR salary_to IS NOT NULL)          -- Только вакансии, где указана зарплата\n",
        "GROUP BY a.id, a.name                       -- Группирую результаты по городу\n",
        "ORDER BY avg_salary DESC                    -- Сортирую по убыванию зарплаты\n",
        "'''\n",
        "# Получаю данные\n",
        "area_salary_df = pd.read_sql_query(area_salary_query, connection)"
      ]
    },
    {
      "cell_type": "code",
      "execution_count": null,
      "id": "6306ab33",
      "metadata": {},
      "outputs": [],
      "source": [
        "# Создаем интерактивный столбчатый график\n",
        "fig_1 = px.bar(\n",
        "    area_salary_df,\n",
        "    x='city',\n",
        "    y='avg_salary',\n",
        "    title='Средняя зарплата Data Science по городам-миллионникам',\n",
        "    labels={'city': 'Город', 'avg_salary': 'Средняя зарплата, руб.'},\n",
        "    color='avg_salary',  # Раскрашиваем столбцы по значению зарплаты\n",
        "    color_continuous_scale='reds',\n",
        "    text='avg_salary'  # Показываем значения на столбцах\n",
        ")\n",
        "\n",
        "# Настраиваем оформление\n",
        "fig_1.update_layout(\n",
        "    xaxis_tickangle=-45,  # Наклон подписей городов\n",
        "    #showlegend=False,     # Скрываем легенду для цветовой шкалы\n",
        "    plot_bgcolor='white', # Белый фон\n",
        "    width=800,\n",
        "    height=500,\n",
        "    coloraxis_colorbar=dict(title='')  # Убираем подпись у цветовой шкалы\n",
        ")\n",
        "\n",
        "# Форматируем подписи на столбцах\n",
        "fig_1.update_traces(\n",
        "    texttemplate='%{text:.0f} руб.',\n",
        "    textposition='outside',\n",
        "    hovertemplate='<b>%{x}</b><br>Средняя зарплата: %{y:.0f} руб.<extra></extra>'\n",
        ")\n",
        "\n",
        "# Настраиваем оси, добавляем сетку\n",
        "fig_1.update_yaxes(\n",
        "    showgrid=True, \n",
        "    gridwidth=1, \n",
        "    gridcolor='lightgray',\n",
        "    showticklabels=False  # Убираю числовые подписи по оси Y\n",
        ")\n",
        "\n",
        "# fig_1.show()\n",
        "# fig_1.write_html(\"data/html/fig_1.html\")"
      ]
    },
    {
      "cell_type": "markdown",
      "id": "0c1c3249",
      "metadata": {},
      "source": [
        "<img src = 'data/image/fig_1.png'>\n",
        "\n",
        "Ознакомится, с интерактивным графиком можно по [ссылке](https://htmlpreview.github.io/?https://github.com/emozdir/project_2/blob/master/data/html/fig_1.html)\n",
        "\n",
        "**Выводы**:\n",
        "Анализ данных по 16 городам-миллионникам показал, что информация о заработных платах Data Science-специалистов представлена только в 8 из них. В остальных городах либо отсутствуют вакансии по направлению Data Science, либо работодатели не указали уровень оплаты труда.\n",
        "Наибольшие средние зарплаты зафиксированы в Москве (свыше 200 тыс. руб.), что отражает концентрацию крупнейших ИТ-компаний и исследовательских центров в столичном регионе. Санкт-Петербург и Новосибирск занимают следующие позиции (170–175 тыс. руб.). В остальных городах, где данные доступны (Екатеринбург, Уфа, Пермь, Ростов-на-Дону, Казань), уровень дохода существенно ниже — от 50 до 125 тыс. руб.\n",
        "Зарплаты в Москве превышают региональные в среднем в четыре раза, что подтверждает неравномерность распределения вакансий с высокими зарплатами и их концентрацию в крупнейших технологических центрах страны."
      ]
    },
    {
      "cell_type": "markdown",
      "id": "ff4f5de2",
      "metadata": {},
      "source": [
        "4.2. Средняя зарплата Data Science по всем городам"
      ]
    },
    {
      "cell_type": "code",
      "execution_count": 259,
      "id": "89eddb0d",
      "metadata": {},
      "outputs": [],
      "source": [
        "# Сравним уровень зарплат DS по всем городам\n",
        "# Запрос аналогичен предыдущему, убираю только фильтр по городам миллионникам\n",
        "all_cities_salary_query = f'''\n",
        "WITH ds_vacancy AS ({ds_vacancy})\n",
        "SELECT \n",
        "    a.name AS city,\n",
        "    COUNT(*) AS vacancies_count,\n",
        "    ROUND(\n",
        "        AVG(\n",
        "            COALESCE(\n",
        "                (salary_from + salary_to)/2, \n",
        "                salary_from, \n",
        "                salary_to\n",
        "            )\n",
        "        )\n",
        "    ) AS avg_salary\n",
        "FROM ds_vacancy v\n",
        "JOIN areas a ON v.area_id = a.id\n",
        "WHERE\n",
        "    (salary_from IS NOT NULL \n",
        "     OR salary_to IS NOT NULL)\n",
        "GROUP BY a.id, a.name\n",
        "ORDER BY avg_salary DESC\n",
        "'''"
      ]
    },
    {
      "cell_type": "code",
      "execution_count": null,
      "id": "3526b584",
      "metadata": {},
      "outputs": [],
      "source": [
        "# Получаю данные\n",
        "all_cities_salary_df = pd.read_sql_query(all_cities_salary_query, connection)\n",
        "\n",
        "# Создаем интерактивный столбчатый график для всех городов\n",
        "fig_1_1 = px.bar(\n",
        "    all_cities_salary_df,\n",
        "    x='city',\n",
        "    y='avg_salary',\n",
        "    title='Средняя зарплата Data Science по всем городам',\n",
        "    labels={'city': 'Город', 'avg_salary': 'Средняя зарплата, руб.'},\n",
        "    color='avg_salary',\n",
        "    color_continuous_scale='reds',\n",
        "    text='avg_salary'\n",
        ")\n",
        "\n",
        "# Настраиваю оформление\n",
        "fig_1_1.update_layout(\n",
        "    xaxis_tickangle=-45,\n",
        "    plot_bgcolor='white',\n",
        "    width=1000,  # Увеличиваем ширину для большего количества городов\n",
        "    height=600,\n",
        "    coloraxis_colorbar=dict(title='')\n",
        ")\n",
        "\n",
        "# Форматирую подписи на столбцах\n",
        "fig_1_1.update_traces(\n",
        "    texttemplate='%{text:.0f} руб.',\n",
        "    # Подписи ВНУТРИ блоков\n",
        "    textposition='inside',\n",
        "    textangle=-90,\n",
        "    insidetextanchor='middle',\n",
        "    hovertemplate='<b>%{x}</b><br>Средняя зарплата: %{y:.0f} руб.<br>Вакансий: %{customdata[0]}<extra></extra>'\n",
        ")\n",
        "\n",
        "# Настраиваем оси\n",
        "fig_1_1.update_yaxes(\n",
        "    showgrid=True, \n",
        "    gridwidth=1, \n",
        "    gridcolor='lightgray',\n",
        "    showticklabels=False\n",
        ")\n",
        "\n",
        "# fig_1_1.show()\n",
        "# fig_1_1.write_html(\"data/html/fig_1.html\")"
      ]
    },
    {
      "cell_type": "markdown",
      "id": "c8abece6",
      "metadata": {},
      "source": [
        "<img src = 'data/image/fig_1_1.png'>\n",
        "\n",
        "Ознакомится, с интерактивным графиком можно по [ссылке](https://htmlpreview.github.io/?https://github.com/emozdir/project_2/blob/master/data/html/fig_1_1.html)\n",
        "\n",
        "**Сравнительный анализ зарплат Data Science по городам России и зарубежья**\n",
        "\n",
        "Анализ всех городов выявил новые тенденции в оплате труда Data Science-специалистов:\n",
        "\n",
        "1. Международные рынки конкурируют с Москвой. Зарубежные локации (Кипр, Армения, Сербия, Турция) предлагают зарплаты на уровне или выше московских (233-300 тыс. руб.)\n",
        "\n",
        "2. Москва теряет монополию на высокие зарплаты - 207 тыс. руб. в столице против 233-300 тыс. руб. в зарубежных странах\n",
        "\n",
        "3. Российские регионы показывают значительный разброс:\n",
        "   - Высокий уровень: Белгород (200 тыс. руб.) неожиданно обгоняет Санкт-Петербург\n",
        "   - Средний уровень: СПб, Новосибирск, Рязань, Королев (130-173 тыс. руб.)\n",
        "   - Базовый уровень: Екатеринбург, Уфа и др. (85-124 тыс. руб.)\n",
        "\n",
        "4. Высокие зарплаты появляются в региональных городах России вне городов-миллионников (Белгород, Рязань)\n",
        "\n",
        "**Ключевой вывод:** Рынок Data Science становится более распространенным — высокие зарплаты доступны не только в крупных городах России, но и в зарубежных странах и отдельных российских регионах, что создает новые возможности для карьерного роста вне городов-миллионников."
      ]
    },
    {
      "cell_type": "markdown",
      "id": "f5265889",
      "metadata": {},
      "source": [
        "### 5. Распределение требуемых навыков по уровням опыта работы"
      ]
    },
    {
      "cell_type": "code",
      "execution_count": 261,
      "id": "557dc042",
      "metadata": {},
      "outputs": [],
      "source": [
        "# Формируем запрос (получаем таблицу с опытом и всеми навыками)\n",
        "skills_exp_query = f'''\n",
        "WITH ds_vacancy AS ({ds_vacancy})\n",
        "SELECT\n",
        "    experience, \n",
        "    key_skills AS skill\n",
        "FROM ds_vacancy\n",
        "WHERE\n",
        "    key_skills IS NOT NULL \n",
        "    AND experience IS NOT NULL\n",
        "'''\n",
        "# Формируем DataFrame\n",
        "skills_exp_df = pd.read_sql_query(skills_exp_query, connection)\n",
        "\n",
        "# Разбиваем навыки на списки\n",
        "skills_exp_df['skill'] = skills_exp_df['skill'].str.split('\\t')\n",
        "\n",
        "# Преобразовываем каждый элемент списка в строку\n",
        "skills_exp_df = skills_exp_df.explode('skill')\n",
        "\n",
        "# Создаем группы, где в каждой группе одинаковые пары (опыт, навык)\n",
        "skills_exp_df = (skills_exp_df.groupby(['experience', 'skill'])\n",
        "                 # Подсчитываем количество строк в каждой группе\n",
        "                 .size()\n",
        "                 # Сбрасываем индекс, добавляем столбец с количеством\n",
        "                 .reset_index(name='skill_count')\n",
        "                 # Сортируем по опыту, потом по количеству в порядке убывания\n",
        "                 .sort_values(['experience', 'skill_count'], ascending=[True, False]))\n",
        "\n",
        "# Берем топ-10 для каждого уровня опыта\n",
        "# Группируем по опыту, и выводим первые 10 значений\n",
        "top_skills_exp_df = (skills_exp_df.groupby('experience')\n",
        "                     .head(10)\n",
        "                     .reset_index(drop=True))"
      ]
    },
    {
      "cell_type": "code",
      "execution_count": null,
      "id": "5e968f70",
      "metadata": {},
      "outputs": [],
      "source": [
        "# Строим график\n",
        "# Создаем матрицу, навык/опыт, количество в качестве значений, если не указанно ставим 0\n",
        "pivot_df = top_skills_exp_df.pivot(index='skill', columns='experience', values='skill_count').fillna(0)\n",
        "# Создаем интерактивный heatmap\n",
        "fig_2 = px.imshow(\n",
        "    pivot_df,\n",
        "    labels=dict(x=\"Уровень опыта\", y=\"Навык\", color=\"Количество\"),\n",
        "    x=pivot_df.columns,\n",
        "    y=pivot_df.index,\n",
        "    color_continuous_scale='YlOrRd',\n",
        "    aspect=\"auto\",\n",
        "    title='Топ навыков Data Science по уровням опыта'\n",
        ")\n",
        "# Настраиваем отображение\n",
        "fig_2.update_layout(\n",
        "    xaxis_title=\"Уровень опыта\",\n",
        "    yaxis_title=\"Навыки\",\n",
        "    width=800,\n",
        "    height=600\n",
        ")\n",
        "# Добавляем аннотации с числами\n",
        "fig_2.update_traces(\n",
        "    text=pivot_df.values,\n",
        "    texttemplate=\"%{text}\",\n",
        "    hovertemplate=\"<b>%{y}</b><br>Опыт: %{x}<br>Количество: %{z}<extra></extra>\"\n",
        ")\n",
        "\n",
        "# fig_2.show()\n",
        "# fig_2.write_html(\"data/html/fig_2.html\")"
      ]
    },
    {
      "cell_type": "markdown",
      "id": "b9051916",
      "metadata": {},
      "source": [
        "<img src = 'data/image/fig_2.png'>\n",
        "\n",
        "Ознакомится, с интерактивным графиком можно по [ссылке](https://htmlpreview.github.io/?https://github.com/emozdir/project_2/blob/master/data/html/fig_2.html)\n",
        "\n",
        "**Выводы по анализу навыков Data Science:**\n",
        "\n",
        "+ Python - единственный навык с высокими значениями на всех уровнях, особенно у специалистов с 1-3 годами и 3-6 годами опыта\n",
        "\n",
        "+ Самые \"горячие\" (красные) ячейки: Python у специалистов 1-3 года (156) и 3-6 лет (149), SQL у специалистов 1-3 года (124), Machine Learning на всех уровнях\n",
        "+ Для новичков достаточно базовых знаний математики, Python, SQL и ML\n",
        "+ Кандидатам senior уровня (более 6 лет) добавилось знание инструментов управления - Atlassian Confluence, Atlassian Jira, Java, ООП. При этом у этого уровня заметно меньше красных ячеек, чем у 1-6 лет опыта. Например, C++ встречается только у специалистов со стажем 3-6 лет (26). Я думаю, это связано с ограниченным количеством вакансий уровня senior.\n",
        "+ От \"нет опыта\" к \"1-3 года\" - резкий рост количества требований, пик востребованности многих навыков приходится на 1-6 лет опыта\n",
        "\n",
        "Таким образом, наибольшие требования к разнообразным навыкам предъявляются к специалистам с опытом 1-6 лет, а самые senior-разработчики должны дополнительно владеть инструментами управления проектами."
      ]
    },
    {
      "cell_type": "markdown",
      "id": "cdb1696f",
      "metadata": {},
      "source": [
        "### 6. Динамика зарплат по опыту работы"
      ]
    },
    {
      "cell_type": "code",
      "execution_count": 263,
      "id": "107521df",
      "metadata": {},
      "outputs": [],
      "source": [
        "# Запрашиваем данные по уровню зарплат для каждого опыта, отбрасывая NULL значения\n",
        "salary_exp_query = f'''\n",
        "WITH ds_vacancy AS ({ds_vacancy})\n",
        "SELECT \n",
        "    experience,\n",
        "    COALESCE(\n",
        "        (salary_from + salary_to)/2,\n",
        "        salary_from,\n",
        "        salary_to\n",
        "        ) AS salary\n",
        "FROM ds_vacancy\n",
        "WHERE\n",
        "    salary_from IS NOT NULL \n",
        "    OR salary_to IS NOT NULL\n",
        "'''\n",
        "# Получаем DataFrame\n",
        "salary_exp_df = pd.read_sql_query(salary_exp_query, connection)"
      ]
    },
    {
      "cell_type": "code",
      "execution_count": null,
      "id": "86e38394",
      "metadata": {},
      "outputs": [],
      "source": [
        "# Рисуем боксплот\n",
        "fig_3 = px.box(\n",
        "    salary_exp_df,\n",
        "    x='experience',\n",
        "    y='salary',\n",
        "    title='Распределение зарплат Data Science по опыту работы',\n",
        "    labels={'experience': 'Опыт работы', 'salary': 'Зарплата, руб.'},\n",
        "    color='experience'  # Раскрашиваем по опыту\n",
        ")\n",
        "\n",
        "# Настраиваем оформление\n",
        "fig_3.update_layout(\n",
        "    showlegend=False,\n",
        "    width=800,\n",
        "    height=600\n",
        ")\n",
        "\n",
        "# fig_3.show()\n",
        "# fig_3.write_html(\"data/html/fig_3.html\")"
      ]
    },
    {
      "cell_type": "markdown",
      "id": "1405780f",
      "metadata": {},
      "source": [
        "<img src = 'data/image/fig_3.png'>\n",
        "\n",
        "Ознакомится, с интерактивным графиком можно по [ссылке](https://htmlpreview.github.io/?https://github.com/emozdir/project_2/blob/master/data/html/fig_3.html)\n",
        "\n",
        "**Выводы:**\n",
        "\n",
        "Четкая прогрессия доходов:\n",
        "+ Нет опыта: 55 000 - 93 000 руб. (узкий диапазон, стабильный уровень)\n",
        "+ 1-3 года: 95 000 - 175 000 руб. (значительный рост, наибольший разброс)\n",
        "+ 3-6 лет: 200 000 - 300 000 руб. (высокий базовый уровень, топовые позиции до 450000 руб.)\n",
        "\n",
        "Ключевые наблюдения:\n",
        "+ Начинающие: стабильный, но ограниченный доход, минимальные выбросы\n",
        "+ 1-3 года: максимальный разброс зарплат, что свидетельствует о разных карьерных траекториях и специализациях\n",
        "+ 3-6 лет: высокий гарантированный доход от 200000 руб., возможность достижения 450000 руб. для топ-специалистов\n",
        "+ Отсутствуют данные по зарплатам специалистов с опытом более 6 лет\n",
        "\n",
        "Таким образом, Data Science предлагает одну из самых перспективных карьерных траекторий в IT с возможностью роста дохода в 3-4 раза за 3-6 лет профессионального развития."
      ]
    },
    {
      "cell_type": "markdown",
      "id": "4fa6fabf",
      "metadata": {},
      "source": [
        "## Общие выводы по проекту"
      ]
    },
    {
      "cell_type": "markdown",
      "id": "13476751",
      "metadata": {},
      "source": [
        "**Общий вывод по исследованию рынка вакансий Data Science**\n",
        "\n",
        "Проведенный анализ выявил, что рынок Data Science представляет собой нишевый сегмент с четко выраженными характеристиками:\n",
        "\n",
        "**Структура:**\n",
        "- Data Science занимает всего 1-3.8% от общего IT-рынка, что подтверждает его специализированный характер;\n",
        "- Ограниченное количество junior-вакансий (51) свидетельствует о высоком пороге входа в профессию;\n",
        "- Среднее количество навыков на вакансию (6-7) подчеркивает многопрофильность требований.\n",
        "\n",
        "**Ключевые навыки:**\n",
        "- **Python и SQL** формируют ядро профессии;\n",
        "- С ростом опыта добавляются новые навыки (английский язык, Java, ООП, инструменты управления и др.);\n",
        "- Пик требований к навыкам приходится на специалистов с опытом 1-6 лет.\n",
        "\n",
        "**Заработные платы и география:**\n",
        "- Четкая прогрессия доходов: от 74 тыс. руб. у новичков до 243 тыс. руб. у опытных специалистов;\n",
        "- Москва лидирует по зарплатам среди российских городов, но конкурирует с зарубежными рынками;\n",
        "- Обнаружены высокие уровни заработной платы в регионах (Белгород, Рязань).\n",
        "\n",
        "**Перспективы:**\n",
        "- Возможность удвоения-утроения дохода за 3-6 лет профессионального роста;\n",
        "- Расширение географии трудоустройства: высокие зарплаты доступны не только в столице;\n",
        "- Наибольший потенциал роста для специалистов с опытом 1-3 года."
      ]
    },
    {
      "cell_type": "markdown",
      "id": "36a9df81",
      "metadata": {},
      "source": [
        "## Перспективы дальнейших исследований и улучшения исходных данных"
      ]
    },
    {
      "cell_type": "markdown",
      "id": "d01c44e9",
      "metadata": {},
      "source": [
        "**В ходе анализа были выявлены следующие проблемы:**\n",
        "- 35.8% вакансий без указания сферы деятельности компании;\n",
        "- Нестандартизированные форматы навыков (разный регистр, синонимы);\n",
        "- Отсутствие унификации в названиях должностей;\n",
        "- Неполные данные по зарплатам.\n",
        "\n",
        "**Рекомендации к данным:**\n",
        "- Внедрение стандартизированных справочников для навыков и специализаций;\n",
        "- Обязательное указание сферы деятельности компании;\n",
        "- Обязательное указание зарплатных вилок;\n",
        "- Сбор данных о времени размещения вакансий.\n",
        "\n",
        "**Возможные дальнейшие исследования:**\n",
        "\n",
        "- Тренды изменения зарплат за период;\n",
        "- Анализ влияния образования на уровень зарплат;\n",
        "- Исследование вакансий с удаленным типом работы и их оплаты;\n",
        "- Сравнение российского рынка DS с мировыми тенденциями;\n",
        "- Исследование влияния размера компании на требования и оплату.\n",
        "\n",
        "**Заключение:** Совершенствование методологии сбора и обработки данных позволит провести более точные исследования, что особенно важно для цели данного проекта - создания ML модели."
      ]
    },
    {
      "cell_type": "code",
      "execution_count": 265,
      "id": "60288595",
      "metadata": {},
      "outputs": [],
      "source": [
        "# не забываем закрыть соединение после окончания работы\n",
        "connection.close()"
      ]
    }
  ],
  "metadata": {
    "colab": {
      "collapsed_sections": [
        "8d62a9f3-f64e-4fe7-bdac-c4dffa16155e"
      ],
      "provenance": []
    },
    "kernelspec": {
      "display_name": "Python 3",
      "language": "python",
      "name": "python3"
    },
    "language_info": {
      "codemirror_mode": {
        "name": "ipython",
        "version": 3
      },
      "file_extension": ".py",
      "mimetype": "text/x-python",
      "name": "python",
      "nbconvert_exporter": "python",
      "pygments_lexer": "ipython3",
      "version": "3.13.9"
    }
  },
  "nbformat": 4,
  "nbformat_minor": 5
}
